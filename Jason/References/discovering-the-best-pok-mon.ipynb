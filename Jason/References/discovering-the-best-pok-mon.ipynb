{
 "metadata": {
  "kernelspec": {
   "language": "python",
   "display_name": "Python 3",
   "name": "python3"
  },
  "language_info": {
   "pygments_lexer": "ipython3",
   "nbconvert_exporter": "python",
   "version": "3.6.4",
   "file_extension": ".py",
   "codemirror_mode": {
    "name": "ipython",
    "version": 3
   },
   "name": "python",
   "mimetype": "text/x-python"
  },
  "kaggle": {
   "accelerator": "none",
   "dataSources": [
    {
     "sourceId": 4568,
     "sourceType": "datasetVersion",
     "datasetId": 2756
    },
    {
     "sourceId": 140373171,
     "sourceType": "kernelVersion"
    },
    {
     "sourceId": 140373243,
     "sourceType": "kernelVersion"
    },
    {
     "sourceId": 140373317,
     "sourceType": "kernelVersion"
    },
    {
     "sourceId": 140373385,
     "sourceType": "kernelVersion"
    }
   ],
   "isInternetEnabled": false,
   "language": "python",
   "sourceType": "notebook",
   "isGpuEnabled": false
  }
 },
 "nbformat_minor": 4,
 "nbformat": 4,
 "cells": [
  {
   "cell_type": "markdown",
   "source": "<span style=\"font-size:2em;\">Discovering the Best Pokémon!</span>\n\nThis dataset contains information on 801 pokémon from the first seven generations. It includes base stats, performances against other types, heights, weights, classifications, egg steps, experience points, abilities, etc. The information was scraped from [serebii](http://serebii.net/) and has the following features:\n\n- **abilities:** a stringified list of abilities that the pokémon is capable of having.\n- **against_?:** eighteen features that denote the amount of damage taken against an attack of a particular type of pokémon.\n- **attack:** the base attack of the pokémon.\n- **base_egg_steps:** the number of steps required to hatch an egg of the pokémon.\n- **base_happiness:** base happiness of the pokémon.\n- **base_total:** sum of hp, attack, defense, sp_attack, sp_defense and speed.\n- **capture_rate:** capture rate of the pokémon.\n- **classification:** the classification of the pokémon as described by the Sun and Moon pokédex.\n- **defense:** the base defense of the pokémon.\n- **experience_growth:** the experience growth of the pokémon.\n- **height_m:** height of the pokémon in metres.\n- **hp:** the base HP of the pokemon. It is short for Hit Point, which determines how much damage a pokémon can receive before fainting.\n- **japanese_name:** the original Japanese name of the pokémon.\n- **name:** the English name of the pokémon.\n- **percentage_male:** the percentage of the species that are male. Blank if the pokémon is genderless.\n- **pokedex_number:** the entry number of the pokémon in the National Pokédex.\n- **sp_attack:** the base special attack of the pokémon.\n- **sp_defense:** the base special defense of the pokémon.\n- **speed:** the base speed of the pokémon.\n- **type1:** the primary type of the pokémon.\n- **type2:** the secondary type of the pokémon.\n- **weight_kg:** the weight of the pokémon in kilograms.\n- **generation:** the numbered generation which the pokémon was first introduced.\n- **is_legendary:** denotes if the pokémon is legendary.\n\nThroughout this notebook, the characteristics of pokémon over the generations, which are the strongest generations and types and which pokémon are the most powerful will be analyzed.\n\n# Imports",
   "metadata": {
    "papermill": {
     "duration": 0.067537,
     "end_time": "2021-10-23T15:48:08.314006",
     "exception": false,
     "start_time": "2021-10-23T15:48:08.246469",
     "status": "completed"
    },
    "tags": []
   }
  },
  {
   "cell_type": "code",
   "source": [
    "# !pip install pywaffle\n",
    "import warnings\n",
    "from ast import literal_eval\n",
    "\n",
    "import matplotlib.pyplot as plt\n",
    "import numpy as np\n",
    "import pandas as pd\n",
    "import seaborn as sns\n",
    "from pywaffle import Waffle\n",
    "\n",
    "warnings.filterwarnings('ignore')\n",
    "from seaborn_plots_utils import (\n",
    "    seaborn_plot,\n",
    "    SEABORN_RC_PARAMS,\n",
    "    SEABORN_STYLE,\n",
    ")\n",
    "from squarify_plots_utils import treemap\n",
    "\n",
    "sns.set(rc=SEABORN_RC_PARAMS, style=SEABORN_STYLE)"
   ],
   "metadata": {
    "papermill": {
     "duration": 1.095972,
     "end_time": "2021-10-23T15:48:09.690322",
     "exception": false,
     "start_time": "2021-10-23T15:48:08.59435",
     "status": "completed"
    },
    "tags": [],
    "execution": {
     "iopub.status.busy": "2023-08-19T11:50:05.071695Z",
     "iopub.execute_input": "2023-08-19T11:50:05.072757Z",
     "iopub.status.idle": "2023-08-19T11:50:26.314924Z",
     "shell.execute_reply.started": "2023-08-19T11:50:05.072706Z",
     "shell.execute_reply": "2023-08-19T11:50:26.31328Z"
    },
    "trusted": true,
    "ExecuteTime": {
     "end_time": "2025-03-20T08:39:26.180997Z",
     "start_time": "2025-03-20T08:39:26.177106Z"
    }
   },
   "outputs": [],
   "execution_count": 13
  },
  {
   "cell_type": "markdown",
   "source": "# Descriptive Statistics\n\nLet's load the dataset, look at the descriptive statistics and check for missing values.",
   "metadata": {
    "execution": {
     "iopub.execute_input": "2021-10-13T20:48:26.302327Z",
     "iopub.status.busy": "2021-10-13T20:48:26.302048Z",
     "iopub.status.idle": "2021-10-13T20:48:26.305876Z",
     "shell.execute_reply": "2021-10-13T20:48:26.304854Z",
     "shell.execute_reply.started": "2021-10-13T20:48:26.302299Z"
    },
    "papermill": {
     "duration": 0.063224,
     "end_time": "2021-10-23T15:48:10.09147",
     "exception": false,
     "start_time": "2021-10-23T15:48:10.028246",
     "status": "completed"
    },
    "tags": []
   }
  },
  {
   "cell_type": "code",
   "source": [
    "pokemon_df = pd.read_csv('D:\\\\python\\\\Code\\\\DPW_Pokemon\\\\archive\\\\pokemon.csv')\n",
    "\n",
    "print(f'Unique primary types: {pokemon_df[\"type1\"].nunique()}')\n",
    "print(f'Unique secondary types: {pokemon_df[\"type2\"].nunique()}')"
   ],
   "metadata": {
    "papermill": {
     "duration": 0.101416,
     "end_time": "2021-10-23T15:48:10.382216",
     "exception": false,
     "start_time": "2021-10-23T15:48:10.2808",
     "status": "completed"
    },
    "tags": [],
    "execution": {
     "iopub.status.busy": "2023-08-19T11:50:26.319175Z",
     "iopub.execute_input": "2023-08-19T11:50:26.320047Z",
     "iopub.status.idle": "2023-08-19T11:50:26.365899Z",
     "shell.execute_reply.started": "2023-08-19T11:50:26.320005Z",
     "shell.execute_reply": "2023-08-19T11:50:26.364495Z"
    },
    "trusted": true,
    "ExecuteTime": {
     "end_time": "2025-03-20T08:39:26.212560Z",
     "start_time": "2025-03-20T08:39:26.203200Z"
    }
   },
   "outputs": [
    {
     "name": "stdout",
     "output_type": "stream",
     "text": [
      "Unique primary types: 18\n",
      "Unique secondary types: 18\n"
     ]
    }
   ],
   "execution_count": 14
  },
  {
   "cell_type": "code",
   "source": "pokemon_df.describe().T",
   "metadata": {
    "papermill": {
     "duration": 0.178107,
     "end_time": "2021-10-23T15:48:10.770853",
     "exception": false,
     "start_time": "2021-10-23T15:48:10.592746",
     "status": "completed"
    },
    "tags": [],
    "execution": {
     "iopub.status.busy": "2023-08-19T11:50:26.367931Z",
     "iopub.execute_input": "2023-08-19T11:50:26.368388Z",
     "iopub.status.idle": "2023-08-19T11:50:26.506748Z",
     "shell.execute_reply.started": "2023-08-19T11:50:26.368347Z",
     "shell.execute_reply": "2023-08-19T11:50:26.505377Z"
    },
    "trusted": true,
    "ExecuteTime": {
     "end_time": "2025-03-20T08:39:26.281031Z",
     "start_time": "2025-03-20T08:39:26.241574Z"
    }
   },
   "outputs": [
    {
     "data": {
      "text/plain": [
       "                   count          mean            std        min        25%  \\\n",
       "against_bug        801.0  9.962547e-01       0.597248       0.25        0.5   \n",
       "against_dark       801.0  1.057116e+00       0.438142       0.25        1.0   \n",
       "against_dragon     801.0  9.687890e-01       0.353058       0.00        1.0   \n",
       "against_electric   801.0  1.073970e+00       0.654962       0.00        0.5   \n",
       "against_fairy      801.0  1.068976e+00       0.522167       0.25        1.0   \n",
       "against_fight      801.0  1.065543e+00       0.717251       0.00        0.5   \n",
       "against_fire       801.0  1.135456e+00       0.691853       0.25        0.5   \n",
       "against_flying     801.0  1.192884e+00       0.604488       0.25        1.0   \n",
       "against_ghost      801.0  9.850187e-01       0.558256       0.00        1.0   \n",
       "against_grass      801.0  1.034020e+00       0.788896       0.25        0.5   \n",
       "against_ground     801.0  1.098002e+00       0.738818       0.00        1.0   \n",
       "against_ice        801.0  1.208177e+00       0.735356       0.25        0.5   \n",
       "against_normal     801.0  8.870162e-01       0.266106       0.00        1.0   \n",
       "against_poison     801.0  9.753433e-01       0.549375       0.00        0.5   \n",
       "against_psychic    801.0  1.005306e+00       0.495183       0.00        1.0   \n",
       "against_rock       801.0  1.250312e+00       0.697148       0.25        1.0   \n",
       "against_steel      801.0  9.834582e-01       0.500117       0.25        0.5   \n",
       "against_water      801.0  1.058365e+00       0.606562       0.25        0.5   \n",
       "attack             801.0  7.785768e+01      32.158820       5.00       55.0   \n",
       "base_egg_steps     801.0  7.191011e+03    6558.220422    1280.00     5120.0   \n",
       "base_happiness     801.0  6.536205e+01      19.598948       0.00       70.0   \n",
       "base_total         801.0  4.283770e+02     119.203577     180.00      320.0   \n",
       "defense            801.0  7.300874e+01      30.769159       5.00       50.0   \n",
       "experience_growth  801.0  1.054996e+06  160255.835096  600000.00  1000000.0   \n",
       "height_m           781.0  1.163892e+00       1.080326       0.10        0.6   \n",
       "hp                 801.0  6.895880e+01      26.576015       1.00       50.0   \n",
       "percentage_male    703.0  5.515576e+01      20.261623       0.00       50.0   \n",
       "pokedex_number     801.0  4.010000e+02     231.373075       1.00      201.0   \n",
       "sp_attack          801.0  7.130587e+01      32.353826      10.00       45.0   \n",
       "sp_defense         801.0  7.091136e+01      27.942501      20.00       50.0   \n",
       "speed              801.0  6.633458e+01      28.907662       5.00       45.0   \n",
       "weight_kg          781.0  6.137810e+01     109.354766       0.10        9.0   \n",
       "generation         801.0  3.690387e+00       1.930420       1.00        2.0   \n",
       "is_legendary       801.0  8.739076e-02       0.282583       0.00        0.0   \n",
       "\n",
       "                         50%        75%        max  \n",
       "against_bug              1.0        1.0        4.0  \n",
       "against_dark             1.0        1.0        4.0  \n",
       "against_dragon           1.0        1.0        2.0  \n",
       "against_electric         1.0        1.0        4.0  \n",
       "against_fairy            1.0        1.0        4.0  \n",
       "against_fight            1.0        1.0        4.0  \n",
       "against_fire             1.0        2.0        4.0  \n",
       "against_flying           1.0        1.0        4.0  \n",
       "against_ghost            1.0        1.0        4.0  \n",
       "against_grass            1.0        1.0        4.0  \n",
       "against_ground           1.0        1.0        4.0  \n",
       "against_ice              1.0        2.0        4.0  \n",
       "against_normal           1.0        1.0        1.0  \n",
       "against_poison           1.0        1.0        4.0  \n",
       "against_psychic          1.0        1.0        4.0  \n",
       "against_rock             1.0        2.0        4.0  \n",
       "against_steel            1.0        1.0        4.0  \n",
       "against_water            1.0        1.0        4.0  \n",
       "attack                  75.0      100.0      185.0  \n",
       "base_egg_steps        5120.0     6400.0    30720.0  \n",
       "base_happiness          70.0       70.0      140.0  \n",
       "base_total             435.0      505.0      780.0  \n",
       "defense                 70.0       90.0      230.0  \n",
       "experience_growth  1000000.0  1059860.0  1640000.0  \n",
       "height_m                 1.0        1.5       14.5  \n",
       "hp                      65.0       80.0      255.0  \n",
       "percentage_male         50.0       50.0      100.0  \n",
       "pokedex_number         401.0      601.0      801.0  \n",
       "sp_attack               65.0       91.0      194.0  \n",
       "sp_defense              66.0       90.0      230.0  \n",
       "speed                   65.0       85.0      180.0  \n",
       "weight_kg               27.3       64.8      999.9  \n",
       "generation               4.0        5.0        7.0  \n",
       "is_legendary             0.0        0.0        1.0  "
      ],
      "text/html": [
       "<div>\n",
       "<style scoped>\n",
       "    .dataframe tbody tr th:only-of-type {\n",
       "        vertical-align: middle;\n",
       "    }\n",
       "\n",
       "    .dataframe tbody tr th {\n",
       "        vertical-align: top;\n",
       "    }\n",
       "\n",
       "    .dataframe thead th {\n",
       "        text-align: right;\n",
       "    }\n",
       "</style>\n",
       "<table border=\"1\" class=\"dataframe\">\n",
       "  <thead>\n",
       "    <tr style=\"text-align: right;\">\n",
       "      <th></th>\n",
       "      <th>count</th>\n",
       "      <th>mean</th>\n",
       "      <th>std</th>\n",
       "      <th>min</th>\n",
       "      <th>25%</th>\n",
       "      <th>50%</th>\n",
       "      <th>75%</th>\n",
       "      <th>max</th>\n",
       "    </tr>\n",
       "  </thead>\n",
       "  <tbody>\n",
       "    <tr>\n",
       "      <th>against_bug</th>\n",
       "      <td>801.0</td>\n",
       "      <td>9.962547e-01</td>\n",
       "      <td>0.597248</td>\n",
       "      <td>0.25</td>\n",
       "      <td>0.5</td>\n",
       "      <td>1.0</td>\n",
       "      <td>1.0</td>\n",
       "      <td>4.0</td>\n",
       "    </tr>\n",
       "    <tr>\n",
       "      <th>against_dark</th>\n",
       "      <td>801.0</td>\n",
       "      <td>1.057116e+00</td>\n",
       "      <td>0.438142</td>\n",
       "      <td>0.25</td>\n",
       "      <td>1.0</td>\n",
       "      <td>1.0</td>\n",
       "      <td>1.0</td>\n",
       "      <td>4.0</td>\n",
       "    </tr>\n",
       "    <tr>\n",
       "      <th>against_dragon</th>\n",
       "      <td>801.0</td>\n",
       "      <td>9.687890e-01</td>\n",
       "      <td>0.353058</td>\n",
       "      <td>0.00</td>\n",
       "      <td>1.0</td>\n",
       "      <td>1.0</td>\n",
       "      <td>1.0</td>\n",
       "      <td>2.0</td>\n",
       "    </tr>\n",
       "    <tr>\n",
       "      <th>against_electric</th>\n",
       "      <td>801.0</td>\n",
       "      <td>1.073970e+00</td>\n",
       "      <td>0.654962</td>\n",
       "      <td>0.00</td>\n",
       "      <td>0.5</td>\n",
       "      <td>1.0</td>\n",
       "      <td>1.0</td>\n",
       "      <td>4.0</td>\n",
       "    </tr>\n",
       "    <tr>\n",
       "      <th>against_fairy</th>\n",
       "      <td>801.0</td>\n",
       "      <td>1.068976e+00</td>\n",
       "      <td>0.522167</td>\n",
       "      <td>0.25</td>\n",
       "      <td>1.0</td>\n",
       "      <td>1.0</td>\n",
       "      <td>1.0</td>\n",
       "      <td>4.0</td>\n",
       "    </tr>\n",
       "    <tr>\n",
       "      <th>against_fight</th>\n",
       "      <td>801.0</td>\n",
       "      <td>1.065543e+00</td>\n",
       "      <td>0.717251</td>\n",
       "      <td>0.00</td>\n",
       "      <td>0.5</td>\n",
       "      <td>1.0</td>\n",
       "      <td>1.0</td>\n",
       "      <td>4.0</td>\n",
       "    </tr>\n",
       "    <tr>\n",
       "      <th>against_fire</th>\n",
       "      <td>801.0</td>\n",
       "      <td>1.135456e+00</td>\n",
       "      <td>0.691853</td>\n",
       "      <td>0.25</td>\n",
       "      <td>0.5</td>\n",
       "      <td>1.0</td>\n",
       "      <td>2.0</td>\n",
       "      <td>4.0</td>\n",
       "    </tr>\n",
       "    <tr>\n",
       "      <th>against_flying</th>\n",
       "      <td>801.0</td>\n",
       "      <td>1.192884e+00</td>\n",
       "      <td>0.604488</td>\n",
       "      <td>0.25</td>\n",
       "      <td>1.0</td>\n",
       "      <td>1.0</td>\n",
       "      <td>1.0</td>\n",
       "      <td>4.0</td>\n",
       "    </tr>\n",
       "    <tr>\n",
       "      <th>against_ghost</th>\n",
       "      <td>801.0</td>\n",
       "      <td>9.850187e-01</td>\n",
       "      <td>0.558256</td>\n",
       "      <td>0.00</td>\n",
       "      <td>1.0</td>\n",
       "      <td>1.0</td>\n",
       "      <td>1.0</td>\n",
       "      <td>4.0</td>\n",
       "    </tr>\n",
       "    <tr>\n",
       "      <th>against_grass</th>\n",
       "      <td>801.0</td>\n",
       "      <td>1.034020e+00</td>\n",
       "      <td>0.788896</td>\n",
       "      <td>0.25</td>\n",
       "      <td>0.5</td>\n",
       "      <td>1.0</td>\n",
       "      <td>1.0</td>\n",
       "      <td>4.0</td>\n",
       "    </tr>\n",
       "    <tr>\n",
       "      <th>against_ground</th>\n",
       "      <td>801.0</td>\n",
       "      <td>1.098002e+00</td>\n",
       "      <td>0.738818</td>\n",
       "      <td>0.00</td>\n",
       "      <td>1.0</td>\n",
       "      <td>1.0</td>\n",
       "      <td>1.0</td>\n",
       "      <td>4.0</td>\n",
       "    </tr>\n",
       "    <tr>\n",
       "      <th>against_ice</th>\n",
       "      <td>801.0</td>\n",
       "      <td>1.208177e+00</td>\n",
       "      <td>0.735356</td>\n",
       "      <td>0.25</td>\n",
       "      <td>0.5</td>\n",
       "      <td>1.0</td>\n",
       "      <td>2.0</td>\n",
       "      <td>4.0</td>\n",
       "    </tr>\n",
       "    <tr>\n",
       "      <th>against_normal</th>\n",
       "      <td>801.0</td>\n",
       "      <td>8.870162e-01</td>\n",
       "      <td>0.266106</td>\n",
       "      <td>0.00</td>\n",
       "      <td>1.0</td>\n",
       "      <td>1.0</td>\n",
       "      <td>1.0</td>\n",
       "      <td>1.0</td>\n",
       "    </tr>\n",
       "    <tr>\n",
       "      <th>against_poison</th>\n",
       "      <td>801.0</td>\n",
       "      <td>9.753433e-01</td>\n",
       "      <td>0.549375</td>\n",
       "      <td>0.00</td>\n",
       "      <td>0.5</td>\n",
       "      <td>1.0</td>\n",
       "      <td>1.0</td>\n",
       "      <td>4.0</td>\n",
       "    </tr>\n",
       "    <tr>\n",
       "      <th>against_psychic</th>\n",
       "      <td>801.0</td>\n",
       "      <td>1.005306e+00</td>\n",
       "      <td>0.495183</td>\n",
       "      <td>0.00</td>\n",
       "      <td>1.0</td>\n",
       "      <td>1.0</td>\n",
       "      <td>1.0</td>\n",
       "      <td>4.0</td>\n",
       "    </tr>\n",
       "    <tr>\n",
       "      <th>against_rock</th>\n",
       "      <td>801.0</td>\n",
       "      <td>1.250312e+00</td>\n",
       "      <td>0.697148</td>\n",
       "      <td>0.25</td>\n",
       "      <td>1.0</td>\n",
       "      <td>1.0</td>\n",
       "      <td>2.0</td>\n",
       "      <td>4.0</td>\n",
       "    </tr>\n",
       "    <tr>\n",
       "      <th>against_steel</th>\n",
       "      <td>801.0</td>\n",
       "      <td>9.834582e-01</td>\n",
       "      <td>0.500117</td>\n",
       "      <td>0.25</td>\n",
       "      <td>0.5</td>\n",
       "      <td>1.0</td>\n",
       "      <td>1.0</td>\n",
       "      <td>4.0</td>\n",
       "    </tr>\n",
       "    <tr>\n",
       "      <th>against_water</th>\n",
       "      <td>801.0</td>\n",
       "      <td>1.058365e+00</td>\n",
       "      <td>0.606562</td>\n",
       "      <td>0.25</td>\n",
       "      <td>0.5</td>\n",
       "      <td>1.0</td>\n",
       "      <td>1.0</td>\n",
       "      <td>4.0</td>\n",
       "    </tr>\n",
       "    <tr>\n",
       "      <th>attack</th>\n",
       "      <td>801.0</td>\n",
       "      <td>7.785768e+01</td>\n",
       "      <td>32.158820</td>\n",
       "      <td>5.00</td>\n",
       "      <td>55.0</td>\n",
       "      <td>75.0</td>\n",
       "      <td>100.0</td>\n",
       "      <td>185.0</td>\n",
       "    </tr>\n",
       "    <tr>\n",
       "      <th>base_egg_steps</th>\n",
       "      <td>801.0</td>\n",
       "      <td>7.191011e+03</td>\n",
       "      <td>6558.220422</td>\n",
       "      <td>1280.00</td>\n",
       "      <td>5120.0</td>\n",
       "      <td>5120.0</td>\n",
       "      <td>6400.0</td>\n",
       "      <td>30720.0</td>\n",
       "    </tr>\n",
       "    <tr>\n",
       "      <th>base_happiness</th>\n",
       "      <td>801.0</td>\n",
       "      <td>6.536205e+01</td>\n",
       "      <td>19.598948</td>\n",
       "      <td>0.00</td>\n",
       "      <td>70.0</td>\n",
       "      <td>70.0</td>\n",
       "      <td>70.0</td>\n",
       "      <td>140.0</td>\n",
       "    </tr>\n",
       "    <tr>\n",
       "      <th>base_total</th>\n",
       "      <td>801.0</td>\n",
       "      <td>4.283770e+02</td>\n",
       "      <td>119.203577</td>\n",
       "      <td>180.00</td>\n",
       "      <td>320.0</td>\n",
       "      <td>435.0</td>\n",
       "      <td>505.0</td>\n",
       "      <td>780.0</td>\n",
       "    </tr>\n",
       "    <tr>\n",
       "      <th>defense</th>\n",
       "      <td>801.0</td>\n",
       "      <td>7.300874e+01</td>\n",
       "      <td>30.769159</td>\n",
       "      <td>5.00</td>\n",
       "      <td>50.0</td>\n",
       "      <td>70.0</td>\n",
       "      <td>90.0</td>\n",
       "      <td>230.0</td>\n",
       "    </tr>\n",
       "    <tr>\n",
       "      <th>experience_growth</th>\n",
       "      <td>801.0</td>\n",
       "      <td>1.054996e+06</td>\n",
       "      <td>160255.835096</td>\n",
       "      <td>600000.00</td>\n",
       "      <td>1000000.0</td>\n",
       "      <td>1000000.0</td>\n",
       "      <td>1059860.0</td>\n",
       "      <td>1640000.0</td>\n",
       "    </tr>\n",
       "    <tr>\n",
       "      <th>height_m</th>\n",
       "      <td>781.0</td>\n",
       "      <td>1.163892e+00</td>\n",
       "      <td>1.080326</td>\n",
       "      <td>0.10</td>\n",
       "      <td>0.6</td>\n",
       "      <td>1.0</td>\n",
       "      <td>1.5</td>\n",
       "      <td>14.5</td>\n",
       "    </tr>\n",
       "    <tr>\n",
       "      <th>hp</th>\n",
       "      <td>801.0</td>\n",
       "      <td>6.895880e+01</td>\n",
       "      <td>26.576015</td>\n",
       "      <td>1.00</td>\n",
       "      <td>50.0</td>\n",
       "      <td>65.0</td>\n",
       "      <td>80.0</td>\n",
       "      <td>255.0</td>\n",
       "    </tr>\n",
       "    <tr>\n",
       "      <th>percentage_male</th>\n",
       "      <td>703.0</td>\n",
       "      <td>5.515576e+01</td>\n",
       "      <td>20.261623</td>\n",
       "      <td>0.00</td>\n",
       "      <td>50.0</td>\n",
       "      <td>50.0</td>\n",
       "      <td>50.0</td>\n",
       "      <td>100.0</td>\n",
       "    </tr>\n",
       "    <tr>\n",
       "      <th>pokedex_number</th>\n",
       "      <td>801.0</td>\n",
       "      <td>4.010000e+02</td>\n",
       "      <td>231.373075</td>\n",
       "      <td>1.00</td>\n",
       "      <td>201.0</td>\n",
       "      <td>401.0</td>\n",
       "      <td>601.0</td>\n",
       "      <td>801.0</td>\n",
       "    </tr>\n",
       "    <tr>\n",
       "      <th>sp_attack</th>\n",
       "      <td>801.0</td>\n",
       "      <td>7.130587e+01</td>\n",
       "      <td>32.353826</td>\n",
       "      <td>10.00</td>\n",
       "      <td>45.0</td>\n",
       "      <td>65.0</td>\n",
       "      <td>91.0</td>\n",
       "      <td>194.0</td>\n",
       "    </tr>\n",
       "    <tr>\n",
       "      <th>sp_defense</th>\n",
       "      <td>801.0</td>\n",
       "      <td>7.091136e+01</td>\n",
       "      <td>27.942501</td>\n",
       "      <td>20.00</td>\n",
       "      <td>50.0</td>\n",
       "      <td>66.0</td>\n",
       "      <td>90.0</td>\n",
       "      <td>230.0</td>\n",
       "    </tr>\n",
       "    <tr>\n",
       "      <th>speed</th>\n",
       "      <td>801.0</td>\n",
       "      <td>6.633458e+01</td>\n",
       "      <td>28.907662</td>\n",
       "      <td>5.00</td>\n",
       "      <td>45.0</td>\n",
       "      <td>65.0</td>\n",
       "      <td>85.0</td>\n",
       "      <td>180.0</td>\n",
       "    </tr>\n",
       "    <tr>\n",
       "      <th>weight_kg</th>\n",
       "      <td>781.0</td>\n",
       "      <td>6.137810e+01</td>\n",
       "      <td>109.354766</td>\n",
       "      <td>0.10</td>\n",
       "      <td>9.0</td>\n",
       "      <td>27.3</td>\n",
       "      <td>64.8</td>\n",
       "      <td>999.9</td>\n",
       "    </tr>\n",
       "    <tr>\n",
       "      <th>generation</th>\n",
       "      <td>801.0</td>\n",
       "      <td>3.690387e+00</td>\n",
       "      <td>1.930420</td>\n",
       "      <td>1.00</td>\n",
       "      <td>2.0</td>\n",
       "      <td>4.0</td>\n",
       "      <td>5.0</td>\n",
       "      <td>7.0</td>\n",
       "    </tr>\n",
       "    <tr>\n",
       "      <th>is_legendary</th>\n",
       "      <td>801.0</td>\n",
       "      <td>8.739076e-02</td>\n",
       "      <td>0.282583</td>\n",
       "      <td>0.00</td>\n",
       "      <td>0.0</td>\n",
       "      <td>0.0</td>\n",
       "      <td>0.0</td>\n",
       "      <td>1.0</td>\n",
       "    </tr>\n",
       "  </tbody>\n",
       "</table>\n",
       "</div>"
      ]
     },
     "execution_count": 15,
     "metadata": {},
     "output_type": "execute_result"
    }
   ],
   "execution_count": 15
  },
  {
   "cell_type": "code",
   "source": "pokemon_df.isnull().sum()[pokemon_df.columns[pokemon_df.isnull().any()]]",
   "metadata": {
    "papermill": {
     "duration": 0.08111,
     "end_time": "2021-10-23T15:48:10.917851",
     "exception": false,
     "start_time": "2021-10-23T15:48:10.836741",
     "status": "completed"
    },
    "tags": [],
    "execution": {
     "iopub.status.busy": "2023-08-19T11:50:26.510701Z",
     "iopub.execute_input": "2023-08-19T11:50:26.511095Z",
     "iopub.status.idle": "2023-08-19T11:50:26.532445Z",
     "shell.execute_reply.started": "2023-08-19T11:50:26.511064Z",
     "shell.execute_reply": "2023-08-19T11:50:26.530886Z"
    },
    "trusted": true,
    "ExecuteTime": {
     "end_time": "2025-03-20T08:39:26.327980Z",
     "start_time": "2025-03-20T08:39:26.320915Z"
    }
   },
   "outputs": [
    {
     "data": {
      "text/plain": [
       "height_m            20\n",
       "percentage_male     98\n",
       "type2              384\n",
       "weight_kg           20\n",
       "dtype: int64"
      ]
     },
     "execution_count": 16,
     "metadata": {},
     "output_type": "execute_result"
    }
   ],
   "execution_count": 16
  },
  {
   "cell_type": "markdown",
   "source": "# Data Processing\n\nBefore the data visualization, let's discard unnecessary columns from the dataset and create some new ones that will be useful throughout the analysis. Plus, we are renaming columns and some values for plotting purposes.",
   "metadata": {
    "papermill": {
     "duration": 0.067292,
     "end_time": "2021-10-23T15:48:11.052159",
     "exception": false,
     "start_time": "2021-10-23T15:48:10.984867",
     "status": "completed"
    },
    "tags": []
   }
  },
  {
   "cell_type": "code",
   "source": "pokemon_df.drop(\n    ['japanese_name', 'pokedex_number', 'base_egg_steps', 'classfication', 'percentage_male'],\n    axis=1,\n    inplace=True,\n)\n\npokemon_df.rename(str.title, axis='columns', inplace=True)\n\npokemon_df.replace(\n    {\n        'Is_Legendary': {\n            0: \"Non-legendary\",\n            1: \"Legendary\",\n        },\n    },\n    inplace=True,\n)\n\ntypes = [t for t in list(pokemon_df['Type1'].unique())]\npokemon_df['Type1'].replace(types, [t.title() for t in types], inplace=True)\npokemon_df['Type2'].replace(types, [t.title() for t in types], inplace=True)",
   "metadata": {
    "tags": [],
    "execution": {
     "iopub.status.busy": "2023-08-19T11:50:26.533964Z",
     "iopub.execute_input": "2023-08-19T11:50:26.534298Z",
     "iopub.status.idle": "2023-08-19T11:50:26.558126Z",
     "shell.execute_reply.started": "2023-08-19T11:50:26.53427Z",
     "shell.execute_reply": "2023-08-19T11:50:26.556968Z"
    },
    "trusted": true,
    "ExecuteTime": {
     "end_time": "2025-03-20T08:39:26.452895Z",
     "start_time": "2025-03-20T08:39:26.444883Z"
    }
   },
   "outputs": [],
   "execution_count": 17
  },
  {
   "cell_type": "markdown",
   "source": "The first feature is created by joining type1 and type2 into a single type.",
   "metadata": {
    "papermill": {
     "duration": 0.065612,
     "end_time": "2021-10-23T15:48:11.454582",
     "exception": false,
     "start_time": "2021-10-23T15:48:11.38897",
     "status": "completed"
    },
    "tags": []
   }
  },
  {
   "cell_type": "code",
   "source": "pokemon_df['Type'] = pokemon_df.apply(\n    lambda x: x['Type1'] if pd.isnull(x['Type2']) else f'{x[\"Type1\"]}_{x[\"Type2\"]}',\n    axis=1,\n)",
   "metadata": {
    "papermill": {
     "duration": 0.119529,
     "end_time": "2021-10-23T15:48:11.652933",
     "exception": false,
     "start_time": "2021-10-23T15:48:11.533404",
     "status": "completed"
    },
    "tags": [],
    "execution": {
     "iopub.status.busy": "2023-08-19T11:50:26.559493Z",
     "iopub.execute_input": "2023-08-19T11:50:26.56047Z",
     "iopub.status.idle": "2023-08-19T11:50:26.589212Z",
     "shell.execute_reply.started": "2023-08-19T11:50:26.56043Z",
     "shell.execute_reply": "2023-08-19T11:50:26.587862Z"
    },
    "trusted": true,
    "ExecuteTime": {
     "end_time": "2025-03-20T08:39:26.693249Z",
     "start_time": "2025-03-20T08:39:26.683870Z"
    }
   },
   "outputs": [],
   "execution_count": 18
  },
  {
   "cell_type": "markdown",
   "source": "Since the abilities column is a stringified list, there is the need to convert it back to a list.",
   "metadata": {
    "papermill": {
     "duration": 0.076885,
     "end_time": "2021-10-23T15:48:11.801071",
     "exception": false,
     "start_time": "2021-10-23T15:48:11.724186",
     "status": "completed"
    },
    "tags": []
   }
  },
  {
   "cell_type": "code",
   "source": "pokemon_df['Abilities'] = pokemon_df.apply(lambda x: literal_eval(x['Abilities']), axis=1)",
   "metadata": {
    "papermill": {
     "duration": 0.101581,
     "end_time": "2021-10-23T15:48:11.976376",
     "exception": false,
     "start_time": "2021-10-23T15:48:11.874795",
     "status": "completed"
    },
    "tags": [],
    "execution": {
     "iopub.status.busy": "2023-08-19T11:50:26.590677Z",
     "iopub.execute_input": "2023-08-19T11:50:26.591013Z",
     "iopub.status.idle": "2023-08-19T11:50:26.622823Z",
     "shell.execute_reply.started": "2023-08-19T11:50:26.590984Z",
     "shell.execute_reply": "2023-08-19T11:50:26.621988Z"
    },
    "trusted": true,
    "ExecuteTime": {
     "end_time": "2025-03-20T08:39:26.823336Z",
     "start_time": "2025-03-20T08:39:26.809924Z"
    }
   },
   "outputs": [],
   "execution_count": 19
  },
  {
   "cell_type": "markdown",
   "source": "The next step is to create a column with the number of abilities.",
   "metadata": {
    "papermill": {
     "duration": 0.066127,
     "end_time": "2021-10-23T15:48:12.112851",
     "exception": false,
     "start_time": "2021-10-23T15:48:12.046724",
     "status": "completed"
    },
    "tags": []
   }
  },
  {
   "cell_type": "code",
   "source": "pokemon_df['N_Abilities'] = pokemon_df.apply(lambda x: len(x['Abilities']), axis=1)",
   "metadata": {
    "papermill": {
     "duration": 0.099441,
     "end_time": "2021-10-23T15:48:12.277626",
     "exception": false,
     "start_time": "2021-10-23T15:48:12.178185",
     "status": "completed"
    },
    "tags": [],
    "execution": {
     "iopub.status.busy": "2023-08-19T11:50:26.624385Z",
     "iopub.execute_input": "2023-08-19T11:50:26.624937Z",
     "iopub.status.idle": "2023-08-19T11:50:26.645119Z",
     "shell.execute_reply.started": "2023-08-19T11:50:26.624906Z",
     "shell.execute_reply": "2023-08-19T11:50:26.643947Z"
    },
    "trusted": true,
    "ExecuteTime": {
     "end_time": "2025-03-20T08:39:26.911986Z",
     "start_time": "2025-03-20T08:39:26.898933Z"
    }
   },
   "outputs": [],
   "execution_count": 20
  },
  {
   "cell_type": "markdown",
   "source": "We are also creating the BMI column, which represents the Body Mass Index of the pokémon. The formula is calculated by dividing the weight in kilograms by the square of the height in meters.",
   "metadata": {
    "papermill": {
     "duration": 0.064406,
     "end_time": "2021-10-23T15:48:12.407552",
     "exception": false,
     "start_time": "2021-10-23T15:48:12.343146",
     "status": "completed"
    },
    "tags": []
   }
  },
  {
   "cell_type": "code",
   "source": "pokemon_df['BMI'] = pokemon_df.apply(lambda x: x['Weight_Kg'] / (x['Height_M']**2), axis=1)",
   "metadata": {
    "papermill": {
     "duration": 0.092791,
     "end_time": "2021-10-23T15:48:12.566085",
     "exception": false,
     "start_time": "2021-10-23T15:48:12.473294",
     "status": "completed"
    },
    "tags": [],
    "execution": {
     "iopub.status.busy": "2023-08-19T11:50:26.646744Z",
     "iopub.execute_input": "2023-08-19T11:50:26.647439Z",
     "iopub.status.idle": "2023-08-19T11:50:26.674035Z",
     "shell.execute_reply.started": "2023-08-19T11:50:26.647371Z",
     "shell.execute_reply": "2023-08-19T11:50:26.67283Z"
    },
    "trusted": true,
    "ExecuteTime": {
     "end_time": "2025-03-20T08:39:26.960970Z",
     "start_time": "2025-03-20T08:39:26.948971Z"
    }
   },
   "outputs": [],
   "execution_count": 21
  },
  {
   "cell_type": "markdown",
   "source": "Finally, Minior has two capture rates, so we are just ignoring such value by assigning it to NaN and changing the column type to numeric.",
   "metadata": {
    "papermill": {
     "duration": 0.065683,
     "end_time": "2021-10-23T15:48:12.698426",
     "exception": false,
     "start_time": "2021-10-23T15:48:12.632743",
     "status": "completed"
    },
    "tags": []
   }
  },
  {
   "cell_type": "code",
   "source": "pokemon_df['Capture_Rate'].replace({'30 (Meteorite)255 (Core)': np.nan}, inplace=True)\npokemon_df['Capture_Rate'] = pd.to_numeric(pokemon_df['Capture_Rate'])",
   "metadata": {
    "papermill": {
     "duration": 0.074887,
     "end_time": "2021-10-23T15:48:12.838952",
     "exception": false,
     "start_time": "2021-10-23T15:48:12.764065",
     "status": "completed"
    },
    "tags": [],
    "execution": {
     "iopub.status.busy": "2023-08-19T11:50:26.679319Z",
     "iopub.execute_input": "2023-08-19T11:50:26.679707Z",
     "iopub.status.idle": "2023-08-19T11:50:26.689009Z",
     "shell.execute_reply.started": "2023-08-19T11:50:26.679678Z",
     "shell.execute_reply": "2023-08-19T11:50:26.687847Z"
    },
    "trusted": true,
    "ExecuteTime": {
     "end_time": "2025-03-20T08:39:26.975042Z",
     "start_time": "2025-03-20T08:39:26.970003Z"
    }
   },
   "outputs": [],
   "execution_count": 22
  },
  {
   "cell_type": "markdown",
   "source": "We are now ready to draw some plots!\n\n# Data Visualization\n\nWe will go through the rest of this notebook creating different plots to answer some questions.\n\n**How many new pokémon are there per generation?**",
   "metadata": {
    "papermill": {
     "duration": 0.065381,
     "end_time": "2021-10-23T15:48:12.971906",
     "exception": false,
     "start_time": "2021-10-23T15:48:12.906525",
     "status": "completed"
    },
    "tags": []
   }
  },
  {
   "cell_type": "code",
   "source": "seaborn_plot(\n    pokemon_df,\n    sns.countplot,\n    {\n        'orient': 'h',\n        'y': 'Generation',\n        'order': [1, 2, 3, 4, 5, 6, 7],\n        'palette': ['indianred', 'indianred', 'indianred', 'indianred', 'darkred', 'indianred', 'indianred'],\n    },\n    'New Pokémon by Generation',\n    xlabel_kws={'xlabel': ''},\n    xticks_kws={'labels': []},\n    ylabel_kws={'ylabel': ''},\n    yticks_kws={'ha': 'left'},\n    pad_yticks=True,\n    despine_kws={\n        'top': True,\n        'right': True,\n        'left': True,\n        'bottom': True,\n    },\n    data_labels_kws={\n        'fmt': '%0.f',\n        'color': 'darkred',\n    },\n    align_with='ytick_labels',\n)",
   "metadata": {
    "execution": {
     "iopub.status.busy": "2023-08-19T11:50:26.690777Z",
     "iopub.execute_input": "2023-08-19T11:50:26.691233Z",
     "iopub.status.idle": "2023-08-19T11:50:27.204973Z",
     "shell.execute_reply.started": "2023-08-19T11:50:26.691199Z",
     "shell.execute_reply": "2023-08-19T11:50:27.203627Z"
    },
    "trusted": true,
    "ExecuteTime": {
     "end_time": "2025-03-20T08:39:27.332137Z",
     "start_time": "2025-03-20T08:39:27.017019Z"
    }
   },
   "outputs": [
    {
     "ename": "AttributeError",
     "evalue": "'YTick' object has no attribute 'label'",
     "output_type": "error",
     "traceback": [
      "\u001B[1;31m---------------------------------------------------------------------------\u001B[0m",
      "\u001B[1;31mAttributeError\u001B[0m                            Traceback (most recent call last)",
      "Cell \u001B[1;32mIn[23], line 1\u001B[0m\n\u001B[1;32m----> 1\u001B[0m \u001B[43mseaborn_plot\u001B[49m\u001B[43m(\u001B[49m\n\u001B[0;32m      2\u001B[0m \u001B[43m    \u001B[49m\u001B[43mpokemon_df\u001B[49m\u001B[43m,\u001B[49m\n\u001B[0;32m      3\u001B[0m \u001B[43m    \u001B[49m\u001B[43msns\u001B[49m\u001B[38;5;241;43m.\u001B[39;49m\u001B[43mcountplot\u001B[49m\u001B[43m,\u001B[49m\n\u001B[0;32m      4\u001B[0m \u001B[43m    \u001B[49m\u001B[43m{\u001B[49m\n\u001B[0;32m      5\u001B[0m \u001B[43m        \u001B[49m\u001B[38;5;124;43m'\u001B[39;49m\u001B[38;5;124;43morient\u001B[39;49m\u001B[38;5;124;43m'\u001B[39;49m\u001B[43m:\u001B[49m\u001B[43m \u001B[49m\u001B[38;5;124;43m'\u001B[39;49m\u001B[38;5;124;43mh\u001B[39;49m\u001B[38;5;124;43m'\u001B[39;49m\u001B[43m,\u001B[49m\n\u001B[0;32m      6\u001B[0m \u001B[43m        \u001B[49m\u001B[38;5;124;43m'\u001B[39;49m\u001B[38;5;124;43my\u001B[39;49m\u001B[38;5;124;43m'\u001B[39;49m\u001B[43m:\u001B[49m\u001B[43m \u001B[49m\u001B[38;5;124;43m'\u001B[39;49m\u001B[38;5;124;43mGeneration\u001B[39;49m\u001B[38;5;124;43m'\u001B[39;49m\u001B[43m,\u001B[49m\n\u001B[0;32m      7\u001B[0m \u001B[43m        \u001B[49m\u001B[38;5;124;43m'\u001B[39;49m\u001B[38;5;124;43morder\u001B[39;49m\u001B[38;5;124;43m'\u001B[39;49m\u001B[43m:\u001B[49m\u001B[43m \u001B[49m\u001B[43m[\u001B[49m\u001B[38;5;241;43m1\u001B[39;49m\u001B[43m,\u001B[49m\u001B[43m \u001B[49m\u001B[38;5;241;43m2\u001B[39;49m\u001B[43m,\u001B[49m\u001B[43m \u001B[49m\u001B[38;5;241;43m3\u001B[39;49m\u001B[43m,\u001B[49m\u001B[43m \u001B[49m\u001B[38;5;241;43m4\u001B[39;49m\u001B[43m,\u001B[49m\u001B[43m \u001B[49m\u001B[38;5;241;43m5\u001B[39;49m\u001B[43m,\u001B[49m\u001B[43m \u001B[49m\u001B[38;5;241;43m6\u001B[39;49m\u001B[43m,\u001B[49m\u001B[43m \u001B[49m\u001B[38;5;241;43m7\u001B[39;49m\u001B[43m]\u001B[49m\u001B[43m,\u001B[49m\n\u001B[0;32m      8\u001B[0m \u001B[43m        \u001B[49m\u001B[38;5;124;43m'\u001B[39;49m\u001B[38;5;124;43mpalette\u001B[39;49m\u001B[38;5;124;43m'\u001B[39;49m\u001B[43m:\u001B[49m\u001B[43m \u001B[49m\u001B[43m[\u001B[49m\u001B[38;5;124;43m'\u001B[39;49m\u001B[38;5;124;43mindianred\u001B[39;49m\u001B[38;5;124;43m'\u001B[39;49m\u001B[43m,\u001B[49m\u001B[43m \u001B[49m\u001B[38;5;124;43m'\u001B[39;49m\u001B[38;5;124;43mindianred\u001B[39;49m\u001B[38;5;124;43m'\u001B[39;49m\u001B[43m,\u001B[49m\u001B[43m \u001B[49m\u001B[38;5;124;43m'\u001B[39;49m\u001B[38;5;124;43mindianred\u001B[39;49m\u001B[38;5;124;43m'\u001B[39;49m\u001B[43m,\u001B[49m\u001B[43m \u001B[49m\u001B[38;5;124;43m'\u001B[39;49m\u001B[38;5;124;43mindianred\u001B[39;49m\u001B[38;5;124;43m'\u001B[39;49m\u001B[43m,\u001B[49m\u001B[43m \u001B[49m\u001B[38;5;124;43m'\u001B[39;49m\u001B[38;5;124;43mdarkred\u001B[39;49m\u001B[38;5;124;43m'\u001B[39;49m\u001B[43m,\u001B[49m\u001B[43m \u001B[49m\u001B[38;5;124;43m'\u001B[39;49m\u001B[38;5;124;43mindianred\u001B[39;49m\u001B[38;5;124;43m'\u001B[39;49m\u001B[43m,\u001B[49m\u001B[43m \u001B[49m\u001B[38;5;124;43m'\u001B[39;49m\u001B[38;5;124;43mindianred\u001B[39;49m\u001B[38;5;124;43m'\u001B[39;49m\u001B[43m]\u001B[49m\u001B[43m,\u001B[49m\n\u001B[0;32m      9\u001B[0m \u001B[43m    \u001B[49m\u001B[43m}\u001B[49m\u001B[43m,\u001B[49m\n\u001B[0;32m     10\u001B[0m \u001B[43m    \u001B[49m\u001B[38;5;124;43m'\u001B[39;49m\u001B[38;5;124;43mNew Pokémon by Generation\u001B[39;49m\u001B[38;5;124;43m'\u001B[39;49m\u001B[43m,\u001B[49m\n\u001B[0;32m     11\u001B[0m \u001B[43m    \u001B[49m\u001B[43mxlabel_kws\u001B[49m\u001B[38;5;241;43m=\u001B[39;49m\u001B[43m{\u001B[49m\u001B[38;5;124;43m'\u001B[39;49m\u001B[38;5;124;43mxlabel\u001B[39;49m\u001B[38;5;124;43m'\u001B[39;49m\u001B[43m:\u001B[49m\u001B[43m \u001B[49m\u001B[38;5;124;43m'\u001B[39;49m\u001B[38;5;124;43m'\u001B[39;49m\u001B[43m}\u001B[49m\u001B[43m,\u001B[49m\n\u001B[0;32m     12\u001B[0m \u001B[43m    \u001B[49m\u001B[43mxticks_kws\u001B[49m\u001B[38;5;241;43m=\u001B[39;49m\u001B[43m{\u001B[49m\u001B[38;5;124;43m'\u001B[39;49m\u001B[38;5;124;43mlabels\u001B[39;49m\u001B[38;5;124;43m'\u001B[39;49m\u001B[43m:\u001B[49m\u001B[43m \u001B[49m\u001B[43m[\u001B[49m\u001B[43m]\u001B[49m\u001B[43m}\u001B[49m\u001B[43m,\u001B[49m\n\u001B[0;32m     13\u001B[0m \u001B[43m    \u001B[49m\u001B[43mylabel_kws\u001B[49m\u001B[38;5;241;43m=\u001B[39;49m\u001B[43m{\u001B[49m\u001B[38;5;124;43m'\u001B[39;49m\u001B[38;5;124;43mylabel\u001B[39;49m\u001B[38;5;124;43m'\u001B[39;49m\u001B[43m:\u001B[49m\u001B[43m \u001B[49m\u001B[38;5;124;43m'\u001B[39;49m\u001B[38;5;124;43m'\u001B[39;49m\u001B[43m}\u001B[49m\u001B[43m,\u001B[49m\n\u001B[0;32m     14\u001B[0m \u001B[43m    \u001B[49m\u001B[43myticks_kws\u001B[49m\u001B[38;5;241;43m=\u001B[39;49m\u001B[43m{\u001B[49m\u001B[38;5;124;43m'\u001B[39;49m\u001B[38;5;124;43mha\u001B[39;49m\u001B[38;5;124;43m'\u001B[39;49m\u001B[43m:\u001B[49m\u001B[43m \u001B[49m\u001B[38;5;124;43m'\u001B[39;49m\u001B[38;5;124;43mleft\u001B[39;49m\u001B[38;5;124;43m'\u001B[39;49m\u001B[43m}\u001B[49m\u001B[43m,\u001B[49m\n\u001B[0;32m     15\u001B[0m \u001B[43m    \u001B[49m\u001B[43mpad_yticks\u001B[49m\u001B[38;5;241;43m=\u001B[39;49m\u001B[38;5;28;43;01mTrue\u001B[39;49;00m\u001B[43m,\u001B[49m\n\u001B[0;32m     16\u001B[0m \u001B[43m    \u001B[49m\u001B[43mdespine_kws\u001B[49m\u001B[38;5;241;43m=\u001B[39;49m\u001B[43m{\u001B[49m\n\u001B[0;32m     17\u001B[0m \u001B[43m        \u001B[49m\u001B[38;5;124;43m'\u001B[39;49m\u001B[38;5;124;43mtop\u001B[39;49m\u001B[38;5;124;43m'\u001B[39;49m\u001B[43m:\u001B[49m\u001B[43m \u001B[49m\u001B[38;5;28;43;01mTrue\u001B[39;49;00m\u001B[43m,\u001B[49m\n\u001B[0;32m     18\u001B[0m \u001B[43m        \u001B[49m\u001B[38;5;124;43m'\u001B[39;49m\u001B[38;5;124;43mright\u001B[39;49m\u001B[38;5;124;43m'\u001B[39;49m\u001B[43m:\u001B[49m\u001B[43m \u001B[49m\u001B[38;5;28;43;01mTrue\u001B[39;49;00m\u001B[43m,\u001B[49m\n\u001B[0;32m     19\u001B[0m \u001B[43m        \u001B[49m\u001B[38;5;124;43m'\u001B[39;49m\u001B[38;5;124;43mleft\u001B[39;49m\u001B[38;5;124;43m'\u001B[39;49m\u001B[43m:\u001B[49m\u001B[43m \u001B[49m\u001B[38;5;28;43;01mTrue\u001B[39;49;00m\u001B[43m,\u001B[49m\n\u001B[0;32m     20\u001B[0m \u001B[43m        \u001B[49m\u001B[38;5;124;43m'\u001B[39;49m\u001B[38;5;124;43mbottom\u001B[39;49m\u001B[38;5;124;43m'\u001B[39;49m\u001B[43m:\u001B[49m\u001B[43m \u001B[49m\u001B[38;5;28;43;01mTrue\u001B[39;49;00m\u001B[43m,\u001B[49m\n\u001B[0;32m     21\u001B[0m \u001B[43m    \u001B[49m\u001B[43m}\u001B[49m\u001B[43m,\u001B[49m\n\u001B[0;32m     22\u001B[0m \u001B[43m    \u001B[49m\u001B[43mdata_labels_kws\u001B[49m\u001B[38;5;241;43m=\u001B[39;49m\u001B[43m{\u001B[49m\n\u001B[0;32m     23\u001B[0m \u001B[43m        \u001B[49m\u001B[38;5;124;43m'\u001B[39;49m\u001B[38;5;124;43mfmt\u001B[39;49m\u001B[38;5;124;43m'\u001B[39;49m\u001B[43m:\u001B[49m\u001B[43m \u001B[49m\u001B[38;5;124;43m'\u001B[39;49m\u001B[38;5;124;43m%\u001B[39;49m\u001B[38;5;124;43m0.f\u001B[39;49m\u001B[38;5;124;43m'\u001B[39;49m\u001B[43m,\u001B[49m\n\u001B[0;32m     24\u001B[0m \u001B[43m        \u001B[49m\u001B[38;5;124;43m'\u001B[39;49m\u001B[38;5;124;43mcolor\u001B[39;49m\u001B[38;5;124;43m'\u001B[39;49m\u001B[43m:\u001B[49m\u001B[43m \u001B[49m\u001B[38;5;124;43m'\u001B[39;49m\u001B[38;5;124;43mdarkred\u001B[39;49m\u001B[38;5;124;43m'\u001B[39;49m\u001B[43m,\u001B[49m\n\u001B[0;32m     25\u001B[0m \u001B[43m    \u001B[49m\u001B[43m}\u001B[49m\u001B[43m,\u001B[49m\n\u001B[0;32m     26\u001B[0m \u001B[43m    \u001B[49m\u001B[43malign_with\u001B[49m\u001B[38;5;241;43m=\u001B[39;49m\u001B[38;5;124;43m'\u001B[39;49m\u001B[38;5;124;43mytick_labels\u001B[39;49m\u001B[38;5;124;43m'\u001B[39;49m\u001B[43m,\u001B[49m\n\u001B[0;32m     27\u001B[0m \u001B[43m)\u001B[49m\n",
      "File \u001B[1;32mD:\\python\\Code\\DPW_Pokemon\\Jason\\References\\seaborn_plots_utils.py:75\u001B[0m, in \u001B[0;36mseaborn_plot\u001B[1;34m(df, function, function_kws, title, xlabel_kws, xticks_kws, xlim_kws, ylabel_kws, yticks_kws, ylim_kws, pad_yticks, despine_kws, is_subplot, legend_kws, data_labels_kws, plot_average, align_with, coordinate_system, ax)\u001B[0m\n\u001B[0;32m     73\u001B[0m \u001B[38;5;66;03m# Align yticks\u001B[39;00m\n\u001B[0;32m     74\u001B[0m \u001B[38;5;28;01mif\u001B[39;00m pad_yticks:\n\u001B[1;32m---> 75\u001B[0m     ax\u001B[38;5;241m.\u001B[39mget_yaxis()\u001B[38;5;241m.\u001B[39mset_tick_params(pad\u001B[38;5;241m=\u001B[39m\u001B[43mcalc_yticks_padding\u001B[49m\u001B[43m(\u001B[49m\u001B[43max\u001B[49m\u001B[43m)\u001B[49m)\n\u001B[0;32m     76\u001B[0m \u001B[38;5;28;01mif\u001B[39;00m is_subplot:\n\u001B[0;32m     77\u001B[0m     \u001B[38;5;28;01mif\u001B[39;00m \u001B[38;5;129;01mnot\u001B[39;00m is_legend_empty(ax\u001B[38;5;241m.\u001B[39mget_legend_handles_labels()):\n",
      "File \u001B[1;32mD:\\python\\Code\\DPW_Pokemon\\Jason\\References\\matplotlib_plots_utils.py:20\u001B[0m, in \u001B[0;36mcalc_yticks_padding\u001B[1;34m(ax)\u001B[0m\n\u001B[0;32m     19\u001B[0m \u001B[38;5;28;01mdef\u001B[39;00m \u001B[38;5;21mcalc_yticks_padding\u001B[39m(ax: Axes) \u001B[38;5;241m-\u001B[39m\u001B[38;5;241m>\u001B[39m \u001B[38;5;28mfloat\u001B[39m:\n\u001B[1;32m---> 20\u001B[0m     \u001B[38;5;28;01mreturn\u001B[39;00m \u001B[38;5;28;43mmax\u001B[39;49m\u001B[43m(\u001B[49m\u001B[43mT\u001B[49m\u001B[38;5;241;43m.\u001B[39;49m\u001B[43mlabel\u001B[49m\u001B[38;5;241;43m.\u001B[39;49m\u001B[43mget_window_extent\u001B[49m\u001B[43m(\u001B[49m\u001B[43m)\u001B[49m\u001B[38;5;241;43m.\u001B[39;49m\u001B[43mwidth\u001B[49m\u001B[43m \u001B[49m\u001B[38;5;28;43;01mfor\u001B[39;49;00m\u001B[43m \u001B[49m\u001B[43mT\u001B[49m\u001B[43m \u001B[49m\u001B[38;5;129;43;01min\u001B[39;49;00m\u001B[43m \u001B[49m\u001B[43max\u001B[49m\u001B[38;5;241;43m.\u001B[39;49m\u001B[43mget_yaxis\u001B[49m\u001B[43m(\u001B[49m\u001B[43m)\u001B[49m\u001B[38;5;241;43m.\u001B[39;49m\u001B[43mmajorTicks\u001B[49m\u001B[43m)\u001B[49m \u001B[38;5;241m*\u001B[39m \u001B[38;5;241m0.5\u001B[39m\n",
      "File \u001B[1;32mD:\\python\\Code\\DPW_Pokemon\\Jason\\References\\matplotlib_plots_utils.py:20\u001B[0m, in \u001B[0;36m<genexpr>\u001B[1;34m(.0)\u001B[0m\n\u001B[0;32m     19\u001B[0m \u001B[38;5;28;01mdef\u001B[39;00m \u001B[38;5;21mcalc_yticks_padding\u001B[39m(ax: Axes) \u001B[38;5;241m-\u001B[39m\u001B[38;5;241m>\u001B[39m \u001B[38;5;28mfloat\u001B[39m:\n\u001B[1;32m---> 20\u001B[0m     \u001B[38;5;28;01mreturn\u001B[39;00m \u001B[38;5;28mmax\u001B[39m(\u001B[43mT\u001B[49m\u001B[38;5;241;43m.\u001B[39;49m\u001B[43mlabel\u001B[49m\u001B[38;5;241m.\u001B[39mget_window_extent()\u001B[38;5;241m.\u001B[39mwidth \u001B[38;5;28;01mfor\u001B[39;00m T \u001B[38;5;129;01min\u001B[39;00m ax\u001B[38;5;241m.\u001B[39mget_yaxis()\u001B[38;5;241m.\u001B[39mmajorTicks) \u001B[38;5;241m*\u001B[39m \u001B[38;5;241m0.5\u001B[39m\n",
      "\u001B[1;31mAttributeError\u001B[0m: 'YTick' object has no attribute 'label'"
     ]
    },
    {
     "data": {
      "text/plain": [
       "<Figure size 1200x600 with 1 Axes>"
      ],
      "image/png": "[encoded data removed]"
     },
     "metadata": {},
     "output_type": "display_data"
    }
   ],
   "execution_count": 23
  },
  {
   "cell_type": "markdown",
   "source": "Odd generations have more new pokémon compared to even ones. The fifth generation has the most new Pokémon.\n\n**What are the most prevalent primary types?**",
   "metadata": {
    "papermill": {
     "duration": 0.067497,
     "end_time": "2021-10-23T15:48:14.00685",
     "exception": false,
     "start_time": "2021-10-23T15:48:13.939353",
     "status": "completed"
    },
    "tags": []
   }
  },
  {
   "cell_type": "code",
   "source": "type1_value_counts = pokemon_df['Type1'].value_counts()\n\ntreemap(\n    type1_value_counts,\n    'Pokémon Primary Types Prevalence',\n    label=type1_value_counts.index,\n    color=[\n        '#6991F0',\n        '#A8AA79',\n        '#7AC852',\n        '#A7B822',\n        '#F85887',\n        '#EF812E',\n        '#B99F38',\n        '#F6D030',\n        '#A0429F',\n        '#BCA23B',\n        '#6D5947',\n        '#C12F27',\n        '#70589A',\n        '#6B3EE3',\n        '#B6B8D0',\n        '#9AD7D9',\n        '#FF65D5',\n        '#A991F0',\n    ],\n    pad=1,\n    text_kwargs={'color': 'black'},\n)",
   "metadata": {
    "papermill": {
     "duration": 0.534245,
     "end_time": "2021-10-23T15:48:14.883038",
     "exception": false,
     "start_time": "2021-10-23T15:48:14.348793",
     "status": "completed"
    },
    "tags": [],
    "execution": {
     "iopub.status.busy": "2023-08-19T11:50:27.206382Z",
     "iopub.execute_input": "2023-08-19T11:50:27.206739Z",
     "iopub.status.idle": "2023-08-19T11:50:27.601171Z",
     "shell.execute_reply.started": "2023-08-19T11:50:27.206709Z",
     "shell.execute_reply": "2023-08-19T11:50:27.600103Z"
    },
    "trusted": true
   },
   "outputs": [],
   "execution_count": null
  },
  {
   "cell_type": "markdown",
   "source": "Water type pokémon are the most common, followed by normal and grass.\n\n**What about secondary types?**",
   "metadata": {
    "papermill": {
     "duration": 0.068688,
     "end_time": "2021-10-23T15:48:15.021123",
     "exception": false,
     "start_time": "2021-10-23T15:48:14.952435",
     "status": "completed"
    },
    "tags": []
   }
  },
  {
   "cell_type": "code",
   "source": "pokemon_without_secondary_type_percentage = round(pokemon_df[\"Type2\"].isnull().sum() / len(pokemon_df) * 100)\n\nfig = plt.figure(\n    FigureClass=Waffle,\n    figsize=(6, 3),\n    rows=10,\n    columns=10,\n    values=[100 - pokemon_without_secondary_type_percentage, pokemon_without_secondary_type_percentage],\n    colors=['darkred', 'indianred'],\n    title={\n        'label': 'Pokémon Without Secondary Type',\n        'loc': 'left',\n    },\n    labels=[\n        f'Secondary Type ({100- pokemon_without_secondary_type_percentage})%',\n        f'No Secondary Type ({pokemon_without_secondary_type_percentage})%',\n    ],\n    legend={\n        'loc': 'lower left',\n        'bbox_to_anchor': (-0.025, 1),\n        'ncol': 2,\n        'handlelength': 0.5,\n    },\n    starting_location='NW',\n    vertical=True,\n    block_arranging_style='snake',\n)",
   "metadata": {
    "execution": {
     "iopub.status.busy": "2023-08-19T11:50:27.602483Z",
     "iopub.execute_input": "2023-08-19T11:50:27.602999Z",
     "iopub.status.idle": "2023-08-19T11:50:28.098136Z",
     "shell.execute_reply.started": "2023-08-19T11:50:27.602968Z",
     "shell.execute_reply": "2023-08-19T11:50:28.097013Z"
    },
    "trusted": true
   },
   "outputs": [],
   "execution_count": null
  },
  {
   "cell_type": "markdown",
   "source": "Almost half of Pokemon (48%) don't have a secondary type.",
   "metadata": {}
  },
  {
   "cell_type": "code",
   "source": [
    "from Jason.References.pandas_plots_utils import pandas_plot\n",
    "\n",
    "type2_value_counts = pokemon_df['Type2'].value_counts()\n",
    "types_df = pd.concat([type1_value_counts, type2_value_counts], axis=1)\n",
    "types_df.sort_values(by='Type2', ascending=False, inplace=True)\n",
    "\n",
    "pandas_plot(\n",
    "    types_df,\n",
    "    {\n",
    "        'kind': 'barh',\n",
    "        'stacked': True,\n",
    "        'color': ['darkred', 'indianred'],\n",
    "        'width': 1,\n",
    "    },\n",
    "    'Pokémon by Primary and Secondary Types',\n",
    "    xlabel_kws={\n",
    "        'xlabel': 'Count',\n",
    "        'loc': 'right',\n",
    "    },\n",
    "    yticklabels_kws={'ha': 'left'},\n",
    "    pad_yticks=True,\n",
    "    invert_yaxis=True,\n",
    "    despine_kws={\n",
    "        'top': True,\n",
    "        'right': True,\n",
    "        'left': True,\n",
    "    },\n",
    "    legend_kws={\n",
    "        'borderaxespad': 0,\n",
    "        'borderpad': 0,\n",
    "    },\n",
    "    data_labels_kws={\n",
    "        'fmt': '%0.f',\n",
    "        'color': 'white',\n",
    "        'label_type': 'center',\n",
    "    },\n",
    "    align_with='ytick_labels',\n",
    ")"
   ],
   "metadata": {
    "papermill": {
     "duration": 0.668512,
     "end_time": "2021-10-23T15:48:16.05001",
     "exception": false,
     "start_time": "2021-10-23T15:48:15.381498",
     "status": "completed"
    },
    "tags": [],
    "execution": {
     "iopub.status.busy": "2023-08-19T11:50:28.099278Z",
     "iopub.execute_input": "2023-08-19T11:50:28.099621Z",
     "iopub.status.idle": "2023-08-19T11:50:29.138758Z",
     "shell.execute_reply.started": "2023-08-19T11:50:28.099591Z",
     "shell.execute_reply": "2023-08-19T11:50:29.137438Z"
    },
    "trusted": true
   },
   "outputs": [],
   "execution_count": null
  },
  {
   "cell_type": "markdown",
   "source": "Flying is the most common type 2, followed by poison and ground.\n\n**What are the most common type combinations?**",
   "metadata": {
    "papermill": {
     "duration": 0.069227,
     "end_time": "2021-10-23T15:48:16.188952",
     "exception": false,
     "start_time": "2021-10-23T15:48:16.119725",
     "status": "completed"
    },
    "tags": []
   }
  },
  {
   "cell_type": "code",
   "source": "seaborn_plot(\n    pokemon_df[~pokemon_df['Type2'].isnull()],\n    sns.countplot,\n    {\n        'orient': 'h',\n        'y': 'Type',\n        'order': pokemon_df[~pokemon_df['Type2'].isnull()][\"Type\"].value_counts()[:10].index,\n        'palette': ['darkred'],\n    },\n    'Most Common Pokémon Type Combinations',\n    xlabel_kws={'xlabel': ''},\n    xticks_kws={'labels': []},\n    ylabel_kws={'ylabel': ''},\n    yticks_kws={'ha': 'left'},\n    pad_yticks=True,\n    despine_kws={\n        'top': True,\n        'right': True,\n        'left': True,\n        'bottom': True,\n    },\n    data_labels_kws={\n        'fmt': '%0.f',\n        'color': 'darkred',\n    },\n    align_with='ytick_labels',\n)",
   "metadata": {
    "papermill": {
     "duration": 0.581111,
     "end_time": "2021-10-23T15:48:16.992094",
     "exception": false,
     "start_time": "2021-10-23T15:48:16.410983",
     "status": "completed"
    },
    "tags": [],
    "execution": {
     "iopub.status.busy": "2023-08-19T11:50:29.140871Z",
     "iopub.execute_input": "2023-08-19T11:50:29.141301Z",
     "iopub.status.idle": "2023-08-19T11:50:29.670979Z",
     "shell.execute_reply.started": "2023-08-19T11:50:29.141266Z",
     "shell.execute_reply": "2023-08-19T11:50:29.669491Z"
    },
    "trusted": true
   },
   "outputs": [],
   "execution_count": null
  },
  {
   "cell_type": "markdown",
   "source": "Normal + flying, grass + poison and bug + flying are the most common type combinations.\n\n**What are the most common types of legendary pokémon?**",
   "metadata": {
    "papermill": {
     "duration": 0.070135,
     "end_time": "2021-10-23T15:48:17.132942",
     "exception": false,
     "start_time": "2021-10-23T15:48:17.062807",
     "status": "completed"
    },
    "tags": []
   }
  },
  {
   "cell_type": "code",
   "source": "legendary_pokemon = pokemon_df[pokemon_df['Is_Legendary'] == 'Legendary']\n\nseaborn_plot(\n    legendary_pokemon,\n    sns.countplot,\n    {\n        'orient': 'h',\n        'y': 'Type',\n        'order': legendary_pokemon[\"Type\"].value_counts()[:5].index,\n        'palette': ['darkred'],\n    },\n    'Most Common Types of Legendary Pokémon',\n    xlabel_kws={'xlabel': ''},\n    xticks_kws={'labels': []},\n    ylabel_kws={'ylabel': ''},\n    yticks_kws={'ha': 'left'},\n    pad_yticks=True,\n    despine_kws={\n        'top': True,\n        'right': True,\n        'left': True,\n        'bottom': True,\n    },\n    data_labels_kws={\n        'fmt': '%0.f',\n        'color': 'darkred',\n    },\n    align_with='ytick_labels',\n)",
   "metadata": {
    "papermill": {
     "duration": 0.449652,
     "end_time": "2021-10-23T15:48:17.944533",
     "exception": false,
     "start_time": "2021-10-23T15:48:17.494881",
     "status": "completed"
    },
    "tags": [],
    "execution": {
     "iopub.status.busy": "2023-08-19T11:50:29.672695Z",
     "iopub.execute_input": "2023-08-19T11:50:29.673132Z",
     "iopub.status.idle": "2023-08-19T11:50:30.083767Z",
     "shell.execute_reply.started": "2023-08-19T11:50:29.673091Z",
     "shell.execute_reply": "2023-08-19T11:50:30.082492Z"
    },
    "trusted": true
   },
   "outputs": [],
   "execution_count": null
  },
  {
   "cell_type": "markdown",
   "source": "Psychic is the most common type of legendary pokémon.\n\n**How does primary type vary across generations?**",
   "metadata": {
    "papermill": {
     "duration": 0.073746,
     "end_time": "2021-10-23T15:48:18.093665",
     "exception": false,
     "start_time": "2021-10-23T15:48:18.019919",
     "status": "completed"
    },
    "tags": []
   }
  },
  {
   "cell_type": "code",
   "source": "type1_by_generation = pd.crosstab(pokemon_df['Type1'], [pokemon_df['Generation']])\n\nseaborn_plot(\n    type1_by_generation,\n    sns.heatmap,\n    {\n        'annot': True,\n        'cbar': False,\n        'cmap': 'Reds',\n    },\n    'Pokémon Primary Types Across Generations',\n    xlabel_kws={'xlabel': ''},\n    ylabel_kws={'ylabel': ''},\n    yticks_kws={'ha': 'left'},\n    pad_yticks=True,\n    align_with='ytick_labels',\n)",
   "metadata": {
    "papermill": {
     "duration": 0.9026,
     "end_time": "2021-10-23T15:48:19.471935",
     "exception": false,
     "start_time": "2021-10-23T15:48:18.569335",
     "status": "completed"
    },
    "tags": [],
    "execution": {
     "iopub.status.busy": "2023-08-19T11:50:30.085658Z",
     "iopub.execute_input": "2023-08-19T11:50:30.086119Z",
     "iopub.status.idle": "2023-08-19T11:50:31.128212Z",
     "shell.execute_reply.started": "2023-08-19T11:50:30.086064Z",
     "shell.execute_reply": "2023-08-19T11:50:31.126719Z"
    },
    "trusted": true
   },
   "outputs": [],
   "execution_count": null
  },
  {
   "cell_type": "markdown",
   "source": "A few types don't exist in some generations, like dark, steel and flying in generation 1 and dragon and flying in generation 2.\n\nFlying only exists as primary type in generations 5 and 6. \n\nThere is an unusually high amount of poison type pokémon in the first generation, steel type in the third, dark and psychic type in the fifth and fairy in the sixth.\n\n**Which generation has the easiest pokémon to catch?**",
   "metadata": {
    "papermill": {
     "duration": 0.074378,
     "end_time": "2021-10-23T15:48:19.621161",
     "exception": false,
     "start_time": "2021-10-23T15:48:19.546783",
     "status": "completed"
    },
    "tags": []
   }
  },
  {
   "cell_type": "code",
   "source": "seaborn_plot(\n    pokemon_df,\n    sns.boxplot,\n    {\n        'x': 'Generation',\n        'y': 'Capture_Rate',\n        'hue': 'Is_Legendary',\n        'palette': ['darkred', 'indianred'],\n    },\n    'Pokémon Capture Rate by Generation',\n    ylim_kws={'bottom': 0},\n    despine_kws={\n        'top': True,\n        'right': True,\n    },\n    legend_kws={\n        'borderaxespad': 0.15,\n        'borderpad': 0,\n    },\n)",
   "metadata": {
    "papermill": {
     "duration": 0.62064,
     "end_time": "2021-10-23T15:48:21.01457",
     "exception": false,
     "start_time": "2021-10-23T15:48:20.39393",
     "status": "completed"
    },
    "tags": [],
    "execution": {
     "iopub.status.busy": "2023-08-19T11:50:31.129852Z",
     "iopub.execute_input": "2023-08-19T11:50:31.130218Z",
     "iopub.status.idle": "2023-08-19T11:50:32.236771Z",
     "shell.execute_reply.started": "2023-08-19T11:50:31.130186Z",
     "shell.execute_reply": "2023-08-19T11:50:32.235458Z"
    },
    "trusted": true
   },
   "outputs": [],
   "execution_count": null
  },
  {
   "cell_type": "markdown",
   "source": "Generation 3 has the easiest pokémon to catch, while generation 4 has the hardest.\n\nLegendary pokémon are easier to capture from generation 6 onwards.\n\n**Which type has the easiest pokémon to catch?**",
   "metadata": {
    "papermill": {
     "duration": 0.081721,
     "end_time": "2021-10-23T15:48:21.17939",
     "exception": false,
     "start_time": "2021-10-23T15:48:21.097669",
     "status": "completed"
    },
    "tags": []
   }
  },
  {
   "cell_type": "code",
   "source": "seaborn_plot(\n    pokemon_df,\n    sns.boxplot,\n    {\n        'x': 'Type1',\n        'y': 'Capture_Rate',\n        'hue': 'Is_Legendary',\n        'palette': ['darkred', 'indianred'],\n    },\n    'Pokémon Capture Rate by Primary Type',\n    xticks_kws={'rotation': 90},\n    ylim_kws={'bottom': 0},\n    despine_kws={\n        'top': True,\n        'right': True,\n    },\n    legend_kws={\n        'borderaxespad': 0.15,\n        'borderpad': 0,\n    },\n)",
   "metadata": {
    "papermill": {
     "duration": 1.225456,
     "end_time": "2021-10-23T15:48:22.650987",
     "exception": false,
     "start_time": "2021-10-23T15:48:21.425531",
     "status": "completed"
    },
    "tags": [],
    "execution": {
     "iopub.status.busy": "2023-08-19T11:50:32.238651Z",
     "iopub.execute_input": "2023-08-19T11:50:32.23909Z",
     "iopub.status.idle": "2023-08-19T11:50:33.688636Z",
     "shell.execute_reply.started": "2023-08-19T11:50:32.239048Z",
     "shell.execute_reply": "2023-08-19T11:50:33.687445Z"
    },
    "trusted": true
   },
   "outputs": [],
   "execution_count": null
  },
  {
   "cell_type": "markdown",
   "source": "Fairy type has the easiest pokémon to catch, while dragon has the hardest.\n\nThe easiest legendary pokémon to catch are of type grass and bug.\n\n**How many abilities do pokémon usually have?**",
   "metadata": {
    "execution": {
     "iopub.execute_input": "2021-10-14T16:58:02.686349Z",
     "iopub.status.busy": "2021-10-14T16:58:02.686058Z",
     "iopub.status.idle": "2021-10-14T16:58:02.69131Z",
     "shell.execute_reply": "2021-10-14T16:58:02.690146Z",
     "shell.execute_reply.started": "2021-10-14T16:58:02.686322Z"
    },
    "papermill": {
     "duration": 0.085475,
     "end_time": "2021-10-23T15:48:22.823487",
     "exception": false,
     "start_time": "2021-10-23T15:48:22.738012",
     "status": "completed"
    },
    "tags": []
   }
  },
  {
   "cell_type": "code",
   "source": "seaborn_plot(\n    pokemon_df,\n    sns.countplot,\n    {\n        'orient': 'v',\n        'x': 'N_Abilities',\n        'hue': 'Is_Legendary',\n        'order': [1, 2, 3, 4, 6],\n        'palette': ['darkred', 'indianred'],\n    },\n    'Number of Abilities per Pokémon',\n    xlabel_kws={'xlabel': ''},\n    ylabel_kws={'ylabel': ''},\n    yticks_kws={'ha': 'left'},\n    pad_yticks=True,\n    despine_kws={\n        'top': True,\n        'right': True,\n        'left': True,\n        'bottom': True,\n    },\n    legend_kws={\n        'borderaxespad': 0,\n        'borderpad': 0,\n    },\n    data_labels_kws={\n        'fmt': '%0.f',\n        'color': 'darkred',\n    },\n    align_with='xaxis_label',\n)",
   "metadata": {
    "papermill": {
     "duration": 0.418885,
     "end_time": "2021-10-23T15:48:23.500946",
     "exception": false,
     "start_time": "2021-10-23T15:48:23.082061",
     "status": "completed"
    },
    "tags": [],
    "execution": {
     "iopub.status.busy": "2023-08-19T11:50:33.690296Z",
     "iopub.execute_input": "2023-08-19T11:50:33.69069Z",
     "iopub.status.idle": "2023-08-19T11:50:34.307693Z",
     "shell.execute_reply.started": "2023-08-19T11:50:33.690658Z",
     "shell.execute_reply": "2023-08-19T11:50:34.306274Z"
    },
    "trusted": true
   },
   "outputs": [],
   "execution_count": null
  },
  {
   "cell_type": "markdown",
   "source": "3 is the most common number of abilities for non-legendary pokémon, while most legendary pokémon only have 1 ability.\n\n**What are the heavier and taller pokémon?**",
   "metadata": {
    "papermill": {
     "duration": 0.08579,
     "end_time": "2021-10-23T15:48:23.673875",
     "exception": false,
     "start_time": "2021-10-23T15:48:23.588085",
     "status": "completed"
    },
    "tags": []
   }
  },
  {
   "cell_type": "code",
   "source": "seaborn_plot(\n    pokemon_df,\n    sns.scatterplot,\n    {\n        'x': 'Weight_Kg',\n        'y': 'Height_M',\n        'hue': 'Is_Legendary',\n        'palette': ['darkred', 'indianred'],\n    },\n    'Pokémon by Weight and Height',\n    despine_kws={\n        'top': True,\n        'right': True,\n    },\n    legend_kws={\n        'borderpad': 0,\n        'markerscale': 0.5,\n        'handlelength': 0,\n    },\n    plot_average=False,\n)\n\n# Label top 5 by weight and height\ntop5_weight_height_merged = pd.concat([\n    pokemon_df.nlargest(5, 'Height_M'),\n    pokemon_df.nlargest(5, 'Weight_Kg'),\n]).drop_duplicates(subset=['Name'])\nfor index, row in top5_weight_height_merged.iterrows():\n    plt.annotate(row['Name'], xy=(row['Weight_Kg'] + 10, row['Height_M']))",
   "metadata": {
    "papermill": {
     "duration": 0.600311,
     "end_time": "2021-10-23T15:48:24.53567",
     "exception": false,
     "start_time": "2021-10-23T15:48:23.935359",
     "status": "completed"
    },
    "tags": [],
    "execution": {
     "iopub.status.busy": "2023-08-19T11:50:34.309306Z",
     "iopub.execute_input": "2023-08-19T11:50:34.309753Z",
     "iopub.status.idle": "2023-08-19T11:50:35.082598Z",
     "shell.execute_reply.started": "2023-08-19T11:50:34.309716Z",
     "shell.execute_reply": "2023-08-19T11:50:35.081324Z"
    },
    "trusted": true
   },
   "outputs": [],
   "execution_count": null
  },
  {
   "cell_type": "markdown",
   "source": "2 out of 5 of the tallest pokémon are legendary, while 4 out of 5 of the heavier pokémon are legendary.\n\nCelesteela is the only pokémon in the top 5 in weight and height.\n\n**Which pokémon has the highest BMI?**",
   "metadata": {
    "papermill": {
     "duration": 0.088451,
     "end_time": "2021-10-23T15:48:24.715228",
     "exception": false,
     "start_time": "2021-10-23T15:48:24.626777",
     "status": "completed"
    },
    "tags": []
   }
  },
  {
   "cell_type": "code",
   "source": "top10_highest_bmi = pokemon_df.loc[:, ['Name', 'BMI']].sort_values(by='BMI', ascending=False)[:10].reset_index()\n\nseaborn_plot(\n    top10_highest_bmi,\n    sns.barplot,\n    {\n        'orient': 'h',\n        'x': 'BMI',\n        'y': 'Name',\n        'color': 'darkred',\n    },\n    'Pokémon With the Highest BMI',\n    xlabel_kws={'xlabel': ''},\n    xticks_kws={'labels': []},\n    ylabel_kws={'ylabel': ''},\n    yticks_kws={'ha': 'left'},\n    pad_yticks=True,\n    despine_kws={\n        'top': True,\n        'right': True,\n        'left': True,\n        'bottom': True,\n    },\n    data_labels_kws={\n        'fmt': '%0.f',\n        'color': 'darkred',\n    },\n    align_with='ytick_labels',\n)",
   "metadata": {
    "papermill": {
     "duration": 0.451849,
     "end_time": "2021-10-23T15:48:25.630593",
     "exception": false,
     "start_time": "2021-10-23T15:48:25.178744",
     "status": "completed"
    },
    "tags": [],
    "execution": {
     "iopub.status.busy": "2023-08-19T11:50:35.084709Z",
     "iopub.execute_input": "2023-08-19T11:50:35.085213Z",
     "iopub.status.idle": "2023-08-19T11:50:35.499572Z",
     "shell.execute_reply.started": "2023-08-19T11:50:35.085165Z",
     "shell.execute_reply": "2023-08-19T11:50:35.498086Z"
    },
    "trusted": true
   },
   "outputs": [],
   "execution_count": null
  },
  {
   "cell_type": "markdown",
   "source": "Cosmoem is a clear winner!\n\n**Which pokémon has the lowest BMI?**",
   "metadata": {
    "execution": {
     "iopub.execute_input": "2021-10-14T18:37:46.091547Z",
     "iopub.status.busy": "2021-10-14T18:37:46.091276Z",
     "iopub.status.idle": "2021-10-14T18:37:46.096254Z",
     "shell.execute_reply": "2021-10-14T18:37:46.095216Z",
     "shell.execute_reply.started": "2021-10-14T18:37:46.091522Z"
    },
    "papermill": {
     "duration": 0.08999,
     "end_time": "2021-10-23T15:48:25.986678",
     "exception": false,
     "start_time": "2021-10-23T15:48:25.896688",
     "status": "completed"
    },
    "tags": []
   }
  },
  {
   "cell_type": "code",
   "source": "top10_lowest_bmi = pokemon_df.loc[:, ['Name', 'BMI']].sort_values(by='BMI', ascending=True)[:10].reset_index()\n\nseaborn_plot(\n    top10_lowest_bmi,\n    sns.barplot,\n    {\n        'orient': 'h',\n        'x': 'BMI',\n        'y': 'Name',\n        'color': 'darkred',\n    },\n    'Pokémon With the Lowest BMI',\n    xlabel_kws={'xlabel': ''},\n    xticks_kws={'labels': []},\n    ylabel_kws={'ylabel': ''},\n    yticks_kws={'ha': 'left'},\n    pad_yticks=True,\n    despine_kws={\n        'top': True,\n        'right': True,\n        'left': True,\n        'bottom': True,\n    },\n    data_labels_kws={\n        'fmt': '%.2f',\n        'color': 'darkred',\n    },\n    align_with='ytick_labels',\n)",
   "metadata": {
    "papermill": {
     "duration": 0.447686,
     "end_time": "2021-10-23T15:48:26.713233",
     "exception": false,
     "start_time": "2021-10-23T15:48:26.265547",
     "status": "completed"
    },
    "tags": [],
    "execution": {
     "iopub.status.busy": "2023-08-19T11:50:35.501435Z",
     "iopub.execute_input": "2023-08-19T11:50:35.501897Z",
     "iopub.status.idle": "2023-08-19T11:50:36.020767Z",
     "shell.execute_reply.started": "2023-08-19T11:50:35.501856Z",
     "shell.execute_reply": "2023-08-19T11:50:36.019696Z"
    },
    "trusted": true
   },
   "outputs": [],
   "execution_count": null
  },
  {
   "cell_type": "markdown",
   "source": "Haunter and its previous form (Gastly) are the winners, followed by Dratini and its evolution (Dragonair).\n\n**Which is the best generation?**",
   "metadata": {
    "papermill": {
     "duration": 0.090408,
     "end_time": "2021-10-23T15:48:26.897779",
     "exception": false,
     "start_time": "2021-10-23T15:48:26.807371",
     "status": "completed"
    },
    "tags": []
   }
  },
  {
   "cell_type": "code",
   "source": "seaborn_plot(\n    pokemon_df,\n    sns.boxplot,\n    {\n        'x': 'Generation',\n        'y': 'Base_Total',\n        'hue': 'Is_Legendary',\n        'palette': ['darkred', 'indianred'],\n    },\n    'Pokémon Base Total by Generation',\n    ylim_kws={'bottom': 0},\n    despine_kws={\n        'top': True,\n        'right': True,\n    },\n    legend_kws={\n        'borderaxespad': 0.15,\n        'borderpad': 0,\n    },\n)",
   "metadata": {
    "papermill": {
     "duration": 0.701475,
     "end_time": "2021-10-23T15:48:27.874234",
     "exception": false,
     "start_time": "2021-10-23T15:48:27.172759",
     "status": "completed"
    },
    "tags": [],
    "execution": {
     "iopub.status.busy": "2023-08-19T11:50:36.022114Z",
     "iopub.execute_input": "2023-08-19T11:50:36.02373Z",
     "iopub.status.idle": "2023-08-19T11:50:36.862131Z",
     "shell.execute_reply.started": "2023-08-19T11:50:36.0236Z",
     "shell.execute_reply": "2023-08-19T11:50:36.861139Z"
    },
    "trusted": true
   },
   "outputs": [],
   "execution_count": null
  },
  {
   "cell_type": "markdown",
   "source": "Generation 4 has the best pokémon, while generation 3 has the best legendary pokémon.\n\n**How are attributes related?**",
   "metadata": {
    "papermill": {
     "duration": 0.090969,
     "end_time": "2021-10-23T15:48:28.244874",
     "exception": false,
     "start_time": "2021-10-23T15:48:28.153905",
     "status": "completed"
    },
    "tags": []
   }
  },
  {
   "cell_type": "code",
   "source": "seaborn_plot(\n    pokemon_df[pokemon_df['Is_Legendary'] == 'Non-legendary'\n               ].loc[:, ['Hp', 'Sp_Attack', 'Sp_Defense', 'Attack', 'Defense', 'Speed']].corr(),\n    sns.heatmap,\n    {\n        'annot': True,\n        'cbar': False,\n        'cmap': 'Reds',\n        'fmt': '.2f',\n        'vmin': -1,\n        'vmax': 1,\n    },\n    'Correlation Between Attributes of Non-legendary Pokémon',\n    xlabel_kws={'xlabel': ''},\n    ylabel_kws={'ylabel': ''},\n    yticks_kws={'ha': 'left'},\n    pad_yticks=True,\n    align_with='ytick_labels',\n)",
   "metadata": {
    "papermill": {
     "duration": 0.711339,
     "end_time": "2021-10-23T15:48:29.047774",
     "exception": false,
     "start_time": "2021-10-23T15:48:28.336435",
     "status": "completed"
    },
    "tags": [],
    "execution": {
     "iopub.status.busy": "2023-08-19T11:50:36.863768Z",
     "iopub.execute_input": "2023-08-19T11:50:36.864171Z",
     "iopub.status.idle": "2023-08-19T11:50:37.493809Z",
     "shell.execute_reply.started": "2023-08-19T11:50:36.864121Z",
     "shell.execute_reply": "2023-08-19T11:50:37.492536Z"
    },
    "trusted": true
   },
   "outputs": [],
   "execution_count": null
  },
  {
   "cell_type": "markdown",
   "source": "* Regarding non-legendary pokémon:\n    \n    - There seems to be a positive relationship between hp and sp_attack, sp_defense and attack. Such relationship is less significant for defense, which is kind of surprising, I thought a defensive Pokemon would have a higher hp.\n    - Attack has the strongest relationship with defense.\n    - Defense has the strongest relationship with sp_defense.\n    - Speed has a very weak negative relationship with defense.",
   "metadata": {
    "papermill": {
     "duration": 0.093143,
     "end_time": "2021-10-23T15:48:29.236737",
     "exception": false,
     "start_time": "2021-10-23T15:48:29.143594",
     "status": "completed"
    },
    "tags": []
   }
  },
  {
   "cell_type": "code",
   "source": "seaborn_plot(\n    pokemon_df[pokemon_df['Is_Legendary'] == 'Legendary'\n               ].loc[:, ['Hp', 'Sp_Attack', 'Sp_Defense', 'Attack', 'Defense', 'Speed']].corr(),\n    sns.heatmap,\n    {\n        'annot': True,\n        'cbar': False,\n        'cmap': 'Reds',\n        'fmt': '.2f',\n        'vmin': -1,\n        'vmax': 1,\n    },\n    'Correlation Between Attributes of Legendary Pokémon',\n    xlabel_kws={'xlabel': ''},\n    ylabel_kws={'ylabel': ''},\n    yticks_kws={'ha': 'left'},\n    pad_yticks=True,\n    align_with='ytick_labels',\n)",
   "metadata": {
    "papermill": {
     "duration": 0.673155,
     "end_time": "2021-10-23T15:48:30.003255",
     "exception": false,
     "start_time": "2021-10-23T15:48:29.3301",
     "status": "completed"
    },
    "tags": [],
    "execution": {
     "iopub.status.busy": "2023-08-19T11:50:37.495667Z",
     "iopub.execute_input": "2023-08-19T11:50:37.49609Z",
     "iopub.status.idle": "2023-08-19T11:50:38.132337Z",
     "shell.execute_reply.started": "2023-08-19T11:50:37.49605Z",
     "shell.execute_reply": "2023-08-19T11:50:38.13145Z"
    },
    "trusted": true
   },
   "outputs": [],
   "execution_count": null
  },
  {
   "cell_type": "markdown",
   "source": "Considering legendary pokémon, the relationships between attack and sp_defense and defense and sp_attack changed to negative. Plus, the relationship between attack and speed and defense and speed got stronger (positive and negative, respectively). \n\n**Which is the best type?**",
   "metadata": {
    "papermill": {
     "duration": 0.0948,
     "end_time": "2021-10-23T15:48:30.196358",
     "exception": false,
     "start_time": "2021-10-23T15:48:30.101558",
     "status": "completed"
    },
    "tags": []
   }
  },
  {
   "cell_type": "code",
   "source": "seaborn_plot(\n    pokemon_df[pokemon_df['Is_Legendary'] == 'Non-legendary'].groupby(['Type1']).median()[[\n        'Attack',\n        'Sp_Attack',\n        'Defense',\n        'Sp_Defense',\n        'Hp',\n        'Speed',\n        'Base_Total',\n    ]],\n    sns.heatmap,\n    {\n        'annot': True,\n        'cbar': False,\n        'cmap': 'Reds',\n        'fmt': '.0f',\n        'vmin': 0,\n        'vmax': 150,\n    },\n    'Median of Non-legendary Pokémon Attributes',\n    xlabel_kws={'xlabel': ''},\n    ylabel_kws={'ylabel': ''},\n    yticks_kws={'ha': 'left'},\n    pad_yticks=True,\n    align_with='ytick_labels',\n)",
   "metadata": {
    "papermill": {
     "duration": 1.238128,
     "end_time": "2021-10-23T15:48:31.923186",
     "exception": false,
     "start_time": "2021-10-23T15:48:30.685058",
     "status": "completed"
    },
    "tags": [],
    "execution": {
     "iopub.status.busy": "2023-08-19T11:50:38.133522Z",
     "iopub.execute_input": "2023-08-19T11:50:38.134499Z",
     "iopub.status.idle": "2023-08-19T11:50:39.258105Z",
     "shell.execute_reply.started": "2023-08-19T11:50:38.134457Z",
     "shell.execute_reply": "2023-08-19T11:50:39.256374Z"
    },
    "trusted": true
   },
   "outputs": [],
   "execution_count": null
  },
  {
   "cell_type": "markdown",
   "source": "* Regarding non-legendary pokémon:\n    - Top 5 types - attack: fighting, dragon, ground, dark, steel\n    - Top 5 types - sp_attack: psychic, electric, fairy, fire, ghost\n    - Top 5 types - defense: steel, rock, ground, ghost, ice\n    - Top 5 types - sp_defense: steel, fairy, ghost, psychic, dragon\n    - Top 5 types - hp: fairy, normal, fighting, ice, ground\n    - Top 5 types - speed: flying, electric, fire, dark, dragon\n    - Top 5 types - base_total: ghost, steel, fighting, fairy and ice\n\nGood types to attack are electric, fire, dark and dragon, since they are in the top 5 for attack or sp_attack and speed.\n\nGood types to defend are fairy, ice and ground, since they are in the top 5 for defense or sp_defense and hp.\n\nTo highlight ground, which is in the top 5 for attack, defense and hp. However, it is not in the top5 for base_total, due to its low values for sp_attack, sp_defense and speed.",
   "metadata": {
    "papermill": {
     "duration": 0.100605,
     "end_time": "2021-10-23T15:48:32.129484",
     "exception": false,
     "start_time": "2021-10-23T15:48:32.028879",
     "status": "completed"
    },
    "tags": []
   }
  },
  {
   "cell_type": "code",
   "source": "seaborn_plot(\n    pokemon_df[pokemon_df['Is_Legendary'] == 'Legendary'].groupby(['Type1']).median()[[\n        'Attack',\n        'Sp_Attack',\n        'Defense',\n        'Sp_Defense',\n        'Hp',\n        'Speed',\n        'Base_Total',\n    ]],\n    sns.heatmap,\n    {\n        'annot': True,\n        'cbar': False,\n        'cmap': 'Reds',\n        'fmt': '.0f',\n        'vmin': 0,\n        'vmax': 150,\n    },\n    'Median of Legendary Pokémon Attributes',\n    xlabel_kws={'xlabel': ''},\n    ylabel_kws={'ylabel': ''},\n    yticks_kws={'ha': 'left'},\n    pad_yticks=True,\n    align_with='ytick_labels',\n)",
   "metadata": {
    "papermill": {
     "duration": 1.304149,
     "end_time": "2021-10-23T15:48:33.745296",
     "exception": false,
     "start_time": "2021-10-23T15:48:32.441147",
     "status": "completed"
    },
    "tags": [],
    "execution": {
     "iopub.status.busy": "2023-08-19T11:50:39.26372Z",
     "iopub.execute_input": "2023-08-19T11:50:39.264189Z",
     "iopub.status.idle": "2023-08-19T11:50:40.59072Z",
     "shell.execute_reply.started": "2023-08-19T11:50:39.264152Z",
     "shell.execute_reply": "2023-08-19T11:50:40.58949Z"
    },
    "trusted": true
   },
   "outputs": [],
   "execution_count": null
  },
  {
   "cell_type": "markdown",
   "source": "* Regarding legendary pokémon:\n    - Top 5 types - attack: ground, bug, fairy, normal, dragon\n    - Top 5 types - sp_attack: dragon, dark, fairy, ground, electric\n    - Top 5 types - defense: ground, steel, normal, dragon, ghost\n    - Top 5 types - sp_defense: ice, water, normal, psychic, rock\n    - Top 5 types - hp: ghost, dark, fairy, normal, dragon\n    - Top 5 types - speed: flying, normal, grass, rock, electric\n    - Top 5 types - base_total: dragon, ground, fairy, ghost, normal\n\nGood types to attack are normal and electric, since they are in the top 5 for attack or sp_attack and speed.\n\nGood types to defend are ghost, normal and dragon, since they are in the top 5 for defense or sp_defense and hp.\n\nTo highlight normal, which is in the top 5 for attack, defense, sp_defense, hp and speed. However, it is only fifth in base_total.\n\n**Let's analyze type effectiveness.**",
   "metadata": {
    "papermill": {
     "duration": 0.103359,
     "end_time": "2021-10-23T15:48:33.954051",
     "exception": false,
     "start_time": "2021-10-23T15:48:33.850692",
     "status": "completed"
    },
    "tags": []
   }
  },
  {
   "cell_type": "code",
   "source": "against_columns = [\n    'Against_Bug',\n    'Against_Dark',\n    'Against_Dragon',\n    'Against_Electric',\n    'Against_Fairy',\n    'Against_Fight',\n    'Against_Fire',\n    'Against_Flying',\n    'Against_Ghost',\n    'Against_Grass',\n    'Against_Ground',\n    'Against_Ice',\n    'Against_Normal',\n    'Against_Poison',\n    'Against_Psychic',\n    'Against_Rock',\n    'Against_Steel',\n    'Against_Water',\n]\n\npokemon_type_effectiveness = pokemon_df.groupby(['Type1']).median()[against_columns].T\n\nseaborn_plot(\n    pokemon_type_effectiveness,\n    sns.heatmap,\n    {\n        'annot': True,\n        'cbar': False,\n        'cmap': 'Reds',\n        'fmt': '.1f',\n        'vmin': 0,\n        'vmax': 4,\n    },\n    'Effectiveness Type Chart',\n    xlabel_kws={'xlabel': ''},\n    xticks_kws={'rotation': 90},\n    ylabel_kws={'ylabel': ''},\n    yticks_kws={'ha': 'left'},\n    pad_yticks=True,\n    align_with='ytick_labels',\n)",
   "metadata": {
    "papermill": {
     "duration": 2.180555,
     "end_time": "2021-10-23T15:48:36.667246",
     "exception": false,
     "start_time": "2021-10-23T15:48:34.486691",
     "status": "completed"
    },
    "tags": [],
    "execution": {
     "iopub.status.busy": "2023-08-19T11:50:40.592341Z",
     "iopub.execute_input": "2023-08-19T11:50:40.592764Z",
     "iopub.status.idle": "2023-08-19T11:50:42.601523Z",
     "shell.execute_reply.started": "2023-08-19T11:50:40.592731Z",
     "shell.execute_reply": "2023-08-19T11:50:42.600206Z"
    },
    "trusted": true
   },
   "outputs": [],
   "execution_count": null
  },
  {
   "cell_type": "markdown",
   "source": "To highlight that electric is only weak against (against>=2) ground and normal is only weak against fighting.\nIt is curious that ghost is weak against ghost and that flying is extremely weak against ice. \n\n* There are some types that are pretty useless against (against=0):\n    - psychic against dark\n    - dragon against fairy \n    - ground against flying\n    - fighting against ghost\n    - normal against ghost\n    - ghost against normal\n    - electric against ground\n    - poison against steel\n    \nTake a look [here](https://pokemondb.net/type) to validate these results.\n\n**Which is the best pokémon?**\n\nLet's look at the top 10 most powerful Pokémon (as per the base total stat).",
   "metadata": {
    "papermill": {
     "duration": 0.106558,
     "end_time": "2021-10-23T15:48:36.881465",
     "exception": false,
     "start_time": "2021-10-23T15:48:36.774907",
     "status": "completed"
    },
    "tags": []
   }
  },
  {
   "cell_type": "code",
   "source": "top10_pokemon_base_total = pokemon_df.loc[:, ['Name', 'Base_Total']].sort_values(\n    by='Base_Total',\n    ascending=False,\n)[:10].reset_index()\n\nseaborn_plot(\n    top10_pokemon_base_total,\n    sns.barplot,\n    {\n        'orient': 'h',\n        'x': 'Base_Total',\n        'y': 'Name',\n        'color': 'darkred',\n    },\n    'Pokémon With Best Base Total',\n    xlabel_kws={'xlabel': ''},\n    xticks_kws={'labels': []},\n    ylabel_kws={'ylabel': ''},\n    yticks_kws={'ha': 'left'},\n    pad_yticks=True,\n    despine_kws={\n        'top': True,\n        'right': True,\n        'left': True,\n        'bottom': True,\n    },\n    data_labels_kws={\n        'fmt': '%0.f',\n        'color': 'darkred',\n    },\n    align_with='ytick_labels',\n)",
   "metadata": {
    "papermill": {
     "duration": 0.523952,
     "end_time": "2021-10-23T15:48:37.949341",
     "exception": false,
     "start_time": "2021-10-23T15:48:37.425389",
     "status": "completed"
    },
    "tags": [],
    "execution": {
     "iopub.status.busy": "2023-08-19T11:50:42.602951Z",
     "iopub.execute_input": "2023-08-19T11:50:42.603298Z",
     "iopub.status.idle": "2023-08-19T11:50:43.188862Z",
     "shell.execute_reply.started": "2023-08-19T11:50:42.603267Z",
     "shell.execute_reply": "2023-08-19T11:50:43.187374Z"
    },
    "trusted": true
   },
   "outputs": [],
   "execution_count": null
  },
  {
   "cell_type": "markdown",
   "source": "And we have a tie, Mewtwo and Rayquaza are the best!\n\n# Key Findings\n * Water type pokémon are the most common, followed by normal and grass.\n * Generation 3 has the easiest pokémon to catch, while generation 4 has the hardest.\n * Legendary pokémon are easier to capture from generation 6 onwards.\n * Fairy type has the easiest pokémon to catch, while dragon has the hardest.\n * The easiest legendary pokémon to catch are of type grass and bug.\n * Generation 4 has the best pokémon, while generation 3 has the best legendary pokémon.\n * Mewtwo and Rayquaza are the best pokémon.\n\n\n# References\n\n1. (2020). Pokemon Data Visualization. Available at: https://www.kaggle.com/shreekant009/pokemon-data-visualization/notebook\n2. Agarwal, L. (2018). Data Visualization - Pokemon Data. Available at: https://www.kaggle.com/lakshyaag/data-visualization-pokemon-data\n3. (2019). Pokémon! Kaggle Learn Edition. Available at: https://www.kaggle.com/aplayer98/pok-mon-kaggle-learn-edition\n4. Coetzee, J. (2018). DataVis Battle Entry: Getting to know my Pokémon. Available at: https://towardsdatascience.com/reddit-datavis-entry-getting-to-know-my-pok%C3%A9mon-e0bcf4b4b803\n5. Verma, A. (2018). GgPlot ‘Em All | Pokemon. Available at: https://towardsdatascience.com/exploratory-analysis-of-pokemons-using-r-8600229346fb\n6. The Python Graph Gallery. (2018). Radar Chart. Available at: https://www.python-graph-gallery.com/radar-chart\n\n**If you like this notebook, please give it an upvote as it keeps me motivated. Plus, I am open to feedback.**",
   "metadata": {
    "papermill": {
     "duration": 0.129999,
     "end_time": "2021-10-23T15:48:39.931575",
     "exception": false,
     "start_time": "2021-10-23T15:48:39.801576",
     "status": "completed"
    },
    "tags": []
   }
  }
 ]
}
