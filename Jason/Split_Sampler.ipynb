{
 "cells": [
  {
   "cell_type": "code",
   "execution_count": 3,
   "id": "initial_id",
   "metadata": {
    "collapsed": true
   },
   "outputs": [],
   "source": [
    "import pandas as pd\n",
    "\n",
    "# 1. Load data\n",
    "df = pd.read_csv(\"../archive/pokemon.csv\")\n",
    "\n",
    "# 2. Define column groups\n",
    "battle_cols = [\"name\",\"hp\", \"attack\", \"defense\", \"sp_attack\", \"sp_defense\", \"speed\"]\n",
    "intrinsic_cols = [\n",
    "    \"abilities\", \"type1\", \"type2\",\n",
    "    \"height_m\", \"weight_kg\", \"percentage_male\",\n",
    "    \"base_egg_steps\", \"base_happiness\", \"capture_rate\",\n",
    "    \"experience_growth\", \"generation\", \"is_legendary\"\n",
    "]\n",
    "\n",
    "# 3. Subset dataframe\n",
    "df_clean = df[intrinsic_cols + battle_cols].copy()\n",
    "\n",
    "# 4. (Optional) fix mis‑spellings or convert dtypes here\n",
    "# e.g., df_clean[\"percentage_male\"] = pd.to_numeric(df_clean[\"percentage_male\"], errors=\"coerce\")\n",
    "\n",
    "# 5. Save or pass to next pipeline stage\n",
    "df_clean.to_csv(\"pokemon_clean.csv\", index=False)\n"
   ]
  },
  {
   "cell_type": "code",
   "execution_count": null,
   "id": "76191fe4",
   "metadata": {},
   "outputs": [],
   "source": []
  }
 ],
 "metadata": {
  "kernelspec": {
   "display_name": "Python 3",
   "language": "python",
   "name": "python3"
  },
  "language_info": {
   "codemirror_mode": {
    "name": "ipython",
    "version": 3
   },
   "file_extension": ".py",
   "mimetype": "text/x-python",
   "name": "python",
   "nbconvert_exporter": "python",
   "pygments_lexer": "ipython3",
   "version": "3.12.4"
  }
 },
 "nbformat": 4,
 "nbformat_minor": 5
}
